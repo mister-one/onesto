{
 "cells": [
  {
   "cell_type": "code",
   "execution_count": 2,
   "metadata": {},
   "outputs": [],
   "source": [
    "import json\n",
    "import pandas as pd\n",
    "import re\n",
    "import urllib.request"
   ]
  },
  {
   "cell_type": "code",
   "execution_count": 4,
   "metadata": {},
   "outputs": [],
   "source": [
    "'''\n",
    "1. Load the Data_Request(DR)\n",
    "    1.1 identify the UOA\n",
    "2. For the UOA identify the optimal cluster (OCF)\n",
    "    2.1 Select from the NRRT only the cluster_id \n",
    "    where (all_RF in DR=TRUE) \n",
    "    and among the TRUE one where count(rf) = max (RF count)\n",
    "3. Selecting the instances of the UOA that satisfy the DR\n",
    "    3.1 within the cluster we have identified select the select the right instances based on score\n",
    "        1. all the ATTR & MEAS requested in the DR MUST BE PRESENT but LINK can be inherited\n",
    "        # eg in the NRRT we only cluster instances of Cars by MODEL & YEAR \n",
    "        # if a DR wants  {car.model, car.year, car.[produced_by]->(Company.name)\n",
    "        # the instances must have all the ATTR & MEAS but they can miss an outgoing link to Company.\n",
    "        # Indeed the instance can derive the connection from the incoming_links_ranking section present in the NRRT.\n",
    "4. Select the instances that are 1 link away from the UOA\n",
    "    4.1 clear distinction between DIRECT_LINKS vs BEST_RATED_LINKS\n",
    "        if DIRECT_LINKS then the landing node must have all the ATTR & MEAS but the links can be inherited.\n",
    "        If it has the ATTR & MEAS then you consider the cluster at that LOG and seek for more links\n",
    "            eg. (Car)-[produced_by]->(Company) and we want to know the company name and foundation_year\n",
    "                then there must be a clustering in the NRRT with rf = name, foundation_year\n",
    "                we then look in which cluster that instace is in and it han inherit the links\n",
    "        The reason why you dont inherit MEAS & ATTR is beacuse the direct link need to be 100% correct\n",
    "        if the UOA instance is using a BEST_RATED_LINKS we look at the cluster it lands to and \n",
    "        even if there are not all the ATTR & MEAS we can still look for instances within the landed cluster that have those info\n",
    "        eg\n",
    "        (Car)-[produced_by]->(Company)\n",
    "        if the DR want to have the Company.name and Company.foundation_year\n",
    "        if there is DIRECT_LINKS and the landing instance of Companyhas no founded year then we exclude the Car instance\n",
    "        if there is BEST_RATED_LINKS linking to a cluster by just the name (eg name=FIAT) we can look within\n",
    "            the cluster of company with name=FIAT to see if there is an instance that contain the foundation_year.\n",
    "            and if we find it we can keep the car data\n",
    "        \n",
    "'''\n",
    "dr = {\n",
    "  \"UOA\": \"Car\",\n",
    "  \"Car\": {\n",
    "    \"ATTR\": [\n",
    "      \"model_name\",\n",
    "      \"color\"\n",
    "    ],\n",
    "    \"MEAS\": [\n",
    "      \"max_speed\",\n",
    "      \"consumption\"\n",
    "    ],\n",
    "    \"LINK\": [\n",
    "      \"(Car)<-[PRODUCED]-(Company)\",\n",
    "      \"(Car)<-[OWNED]-(Person)\"\n",
    "    ]\n",
    "  },\n",
    "  \"Company\": {\n",
    "    \"ATTR\": [\n",
    "      \"name\",\n",
    "      \"website\"\n",
    "    ],\n",
    "    \"MEAS\": [\n",
    "      \"revenue\"\n",
    "    ],\n",
    "    \"LINK\": [\n",
    "      \"(Company)-[LOCATED]->(Country)\"\n",
    "    ]\n",
    "  },\n",
    "  \"Country\": {\n",
    "    \"ATTR\": [\n",
    "      \"name\",\n",
    "      \"capital\"\n",
    "    ],\n",
    "    \"MEAS\": [\n",
    "      \"size\"\n",
    "    ]\n",
    "  },\n",
    "  \"Person\": {\n",
    "    \"ATTR\": [\n",
    "      \"name\",\n",
    "      \"surname\"\n",
    "    ],\n",
    "    \"MEAS\": [\n",
    "      \"weight\",\n",
    "      \"height\"\n",
    "    ]\n",
    "  }\n",
    "}"
   ]
  },
  {
   "cell_type": "code",
   "execution_count": 5,
   "metadata": {},
   "outputs": [
    {
     "name": "stdout",
     "output_type": "stream",
     "text": [
      "{'UOA': 'Car', 'Car': {'ATTR': ['model_name', 'color'], 'MEAS': ['max_speed', 'consumption'], 'LINK': ['(Car)<-[PRODUCED]-(Company)', '(Car)<-[OWNED]-(Person)']}, 'Company': {'ATTR': ['name', 'website'], 'MEAS': ['revenue'], 'LINK': ['(Company)-[LOCATED]->(Country)']}, 'Country': {'ATTR': ['name', 'capital'], 'MEAS': ['size']}, 'Person': {'ATTR': ['name', 'surname'], 'MEAS': ['weight', 'height']}}\n"
     ]
    }
   ],
   "source": [
    "print(dr)"
   ]
  },
  {
   "cell_type": "code",
   "execution_count": 15,
   "metadata": {},
   "outputs": [
    {
     "name": "stdout",
     "output_type": "stream",
     "text": [
      "model_name\n",
      "color\n",
      "max_speed\n",
      "consumption\n",
      "(Car)<-[PRODUCED]-(Company)\n",
      "(Car)<-[OWNED]-(Person)\n",
      "name\n",
      "website\n",
      "revenue\n",
      "(Company)-[LOCATED]->(Country)\n",
      "name\n",
      "capital\n",
      "size\n",
      "name\n",
      "surname\n",
      "weight\n",
      "height\n"
     ]
    }
   ],
   "source": [
    "for x in dr:\n",
    "    for y in dr[x]:\n",
    "        if x != 'UOA':\n",
    "            for z in dr[x][y]:\n",
    "                print(z)"
   ]
  },
  {
   "cell_type": "code",
   "execution_count": 74,
   "metadata": {},
   "outputs": [
    {
     "name": "stdout",
     "output_type": "stream",
     "text": [
      "model_name\n",
      "color\n",
      "max_speed\n",
      "consumption\n",
      "(Car)<-[PRODUCED]-(Company)\n",
      "(Car)<-[OWNED]-(Person)\n",
      "name\n",
      "website\n",
      "revenue\n",
      "(Company)-[LOCATED]->(Country)\n",
      "name\n",
      "capital\n",
      "size\n",
      "name\n",
      "surname\n",
      "weight\n",
      "height\n"
     ]
    }
   ],
   "source": [
    "# selecting the features of the data_request\n",
    "for key in dr:\n",
    "    for data_type in dr[key]:\n",
    "        if key != 'UOA':\n",
    "            for feature in dr[key][data_type]:\n",
    "                print(feature)"
   ]
  },
  {
   "cell_type": "code",
   "execution_count": 201,
   "metadata": {},
   "outputs": [],
   "source": [
    "nrrt = {\n",
    "  \"Car\": [\n",
    "    {\n",
    "      \"NRRT_ID\": \"1\",\n",
    "      \"rf\": [\n",
    "        {\n",
    "          \"feature_name\": \"max_speed\",\n",
    "          \"feature_type\": \"MEAS\",\n",
    "          \"feature_value\": \"3/5\"\n",
    "        },\n",
    "        {\n",
    "          \"feature_name\": \"max_speed\",\n",
    "          \"feature_type\": \"MEAS\",\n",
    "          \"feature_value\": \"January 2020\"\n",
    "        },\n",
    "        {\n",
    "          \"feature_name\": \"(Car)<-[PRODUCED]-(Company)\",\n",
    "          \"feature_type\": \"LINK\",\n",
    "          \"feature_value\": \"Product/123123\"\n",
    "        }\n",
    "      ],\n",
    "      \"num_node_available\": 2,\n",
    "      \"node_ranking\": [\n",
    "        {\n",
    "          \"node_address\": \"https://gooe.com/Review/1\",\n",
    "          \"node_abm\": \"https://onesto.world/abm/Review/1\",\n",
    "          \"trust_score\": 0.1,\n",
    "          \"frequency_score\": 1\n",
    "        },\n",
    "        {\n",
    "          \"node_address\": \"https://gooe.com/Review/2\",\n",
    "          \"node_abm\": \"https://onesto.world/abm/Review/1\",\n",
    "          \"trust_score\": 0.1,\n",
    "          \"frequency_score\": 1\n",
    "        }\n",
    "      ],\n",
    "      \"link_ranking\": [\n",
    "        {\n",
    "          \"origin\": \"Allert\",\n",
    "          \"incoming_node_address\": [\n",
    "            \"https://hello.com/Alert/123\",\n",
    "            \"https://hello.com/Alert/123\",\n",
    "            \"https://hello.com/Alert/123\",\n",
    "            \"https://hello.com/Alert/123\"\n",
    "          ]\n",
    "        }\n",
    "      ]\n",
    "    },\n",
    "    {\n",
    "      \"NRRT_ID\": \"2\",\n",
    "      \"rf\": [\n",
    "        {\n",
    "          \"feature_name\": \"score\",\n",
    "          \"feature_type\": \"MEAS\",\n",
    "          \"feature_value\": \"3/5\"\n",
    "        },\n",
    "        {\n",
    "          \"feature_name\": \"date\",\n",
    "          \"feature_type\": \"MEAS\",\n",
    "          \"feature_value\": \"Feb 2020\"\n",
    "        },\n",
    "        {\n",
    "          \"feature_name\": \"[ABOUT]->(Product)\",\n",
    "          \"feature_type\": \"LINK\",\n",
    "          \"feature_value\": \"Product/123123\"\n",
    "        }\n",
    "      ],\n",
    "      \"num_node_available\": 2121,\n",
    "      \"node_ranking\": [\n",
    "        {\n",
    "          \"node_address\": \"https://gooe.com/Review/4\",\n",
    "          \"node_abm\": \"https://onesto.world/abm/Review/1\",\n",
    "          \"trust_score\": 0.1,\n",
    "          \"frequency_score\": 1\n",
    "        },\n",
    "        {\n",
    "          \"node_address\": \"https://gooe.com/Review/5\",\n",
    "          \"node_abm\": \"https://onesto.world/abm/Review/2\",\n",
    "          \"trust_score\": 0.1,\n",
    "          \"frequency_score\": 1\n",
    "        }\n",
    "      ],\n",
    "      \"link_ranking\": [\n",
    "        {\n",
    "          \"origin\": \"Allert\",\n",
    "          \"incoming_node_address\": [\n",
    "            \"https://hello.com/Alert/123\",\n",
    "            \"https://hello.com/Alert/123\",\n",
    "            \"https://hello.com/Alert/123\",\n",
    "            \"https://hello.com/Alert/123\"\n",
    "          ]\n",
    "        }\n",
    "      ]\n",
    "    }\n",
    "  ]\n",
    "}\n"
   ]
  },
  {
   "cell_type": "code",
   "execution_count": 82,
   "metadata": {},
   "outputs": [
    {
     "name": "stdout",
     "output_type": "stream",
     "text": [
      "Car\n"
     ]
    }
   ],
   "source": [
    "for nrrt_item_name in nrrt:\n",
    "    for cluster in nrrt[nrrt_item_name]:\n",
    "        for key in cluster:\n",
    "            print(z)"
   ]
  },
  {
   "cell_type": "code",
   "execution_count": 84,
   "metadata": {},
   "outputs": [
    {
     "name": "stdout",
     "output_type": "stream",
     "text": [
      "ATTR Car\n",
      "MEAS Car\n",
      "LINK Car\n"
     ]
    }
   ],
   "source": [
    "'''\n",
    "For the UOA identify the optimal cluster (OCF)\n",
    "    2.1 Select from the NRRT only the cluster_id \n",
    "    where (all_RF in DR=TRUE) \n",
    "    and among the TRUE one where count(rf) = max (RF count)\n",
    "'''\n",
    "for key in dr:\n",
    "    for data_type in dr[key]:\n",
    "        for nrrt_item_name in nrrt:\n",
    "            if key == nrrt_item_name:\n",
    "                print(data_type, key)\n",
    "            "
   ]
  },
  {
   "cell_type": "code",
   "execution_count": 103,
   "metadata": {},
   "outputs": [
    {
     "name": "stdout",
     "output_type": "stream",
     "text": [
      "score\n",
      "date\n",
      "[ABOUT]->(Product)\n",
      "score\n",
      "date\n",
      "[ABOUT]->(Product)\n"
     ]
    },
    {
     "ename": "TypeError",
     "evalue": "'NoneType' object is not iterable",
     "output_type": "error",
     "traceback": [
      "\u001b[0;31m---------------------------------------------------------------------------\u001b[0m",
      "\u001b[0;31mTypeError\u001b[0m                                 Traceback (most recent call last)",
      "\u001b[0;32m<ipython-input-103-49194fa60584>\u001b[0m in \u001b[0;36m<module>\u001b[0;34m\u001b[0m\n\u001b[1;32m      4\u001b[0m     \u001b[0;32mif\u001b[0m \u001b[0mkey\u001b[0m \u001b[0;34m!=\u001b[0m \u001b[0;34m'UOA'\u001b[0m\u001b[0;34m:\u001b[0m\u001b[0;34m\u001b[0m\u001b[0;34m\u001b[0m\u001b[0m\n\u001b[1;32m      5\u001b[0m         \u001b[0;31m# 1. get the NRRT associated with the key (eg. the NRRT/Car)\u001b[0m\u001b[0;34m\u001b[0m\u001b[0;34m\u001b[0m\u001b[0;34m\u001b[0m\u001b[0m\n\u001b[0;32m----> 6\u001b[0;31m         \u001b[0;32mfor\u001b[0m \u001b[0mnrrt_item_name\u001b[0m \u001b[0;32min\u001b[0m \u001b[0mnrrt\u001b[0m\u001b[0;34m.\u001b[0m\u001b[0mget\u001b[0m\u001b[0;34m(\u001b[0m\u001b[0mkey\u001b[0m\u001b[0;34m)\u001b[0m\u001b[0;34m:\u001b[0m\u001b[0;34m\u001b[0m\u001b[0;34m\u001b[0m\u001b[0m\n\u001b[0m\u001b[1;32m      7\u001b[0m             \u001b[0;31m# 2.  Select from the NRRT only the cluster_id where (all_RF in DR=TRUE)\u001b[0m\u001b[0;34m\u001b[0m\u001b[0;34m\u001b[0m\u001b[0;34m\u001b[0m\u001b[0m\n\u001b[1;32m      8\u001b[0m             \u001b[0;31m#     and among the TRUE one where count(rf) = max (RF count)\u001b[0m\u001b[0;34m\u001b[0m\u001b[0;34m\u001b[0m\u001b[0;34m\u001b[0m\u001b[0m\n",
      "\u001b[0;31mTypeError\u001b[0m: 'NoneType' object is not iterable"
     ]
    }
   ],
   "source": [
    "for key in dr:\n",
    "# for every key(where the keys are UOA, and all the items that the user is requesting eg. Car,Review,Video,etc.) \n",
    "# in the Data_Request\n",
    "    if key != 'UOA':\n",
    "        # 1. get the NRRT associated with the key (eg. the NRRT/Car)\n",
    "        for nrrt_item_name in nrrt.get(key):\n",
    "            # 2.  Select from the NRRT only the cluster_id where (all_RF in DR=TRUE) \n",
    "            #     and among the TRUE one where count(rf) = max (RF count) \n",
    "            for rf in nrrt_item_name.get('rf'):\n",
    "                print(rf['feature_name'])\n",
    "                if all(item in optimal_cluster[x] for item in ls):\n",
    "                selected_cluster_id.append(y['NRRT_ID'])\n",
    "    "
   ]
  },
  {
   "cell_type": "code",
   "execution_count": 95,
   "metadata": {},
   "outputs": [
    {
     "name": "stdout",
     "output_type": "stream",
     "text": [
      "{'NRRT_ID': '1', 'rf': [{'feature_name': 'score', 'feature_type': 'MEAS', 'feature_value': '3/5'}, {'feature_name': 'date', 'feature_type': 'MEAS', 'feature_value': 'January 2020'}, {'feature_name': '[ABOUT]->(Product)', 'feature_type': 'LINK', 'feature_value': 'Product/123123'}], 'num_node_available': 2, 'node_ranking': [{'node_address': 'https://gooe.com/Review/1', 'node_abm': 'https://onesto.world/abm/Review/1', 'trust_score': 0.1, 'frequency_score': 1}, {'node_address': 'https://gooe.com/Review/2', 'node_abm': 'https://onesto.world/abm/Review/1', 'trust_score': 0.1, 'frequency_score': 1}], 'link_ranking': [{'origin': 'Allert', 'incoming_node_address': ['https://hello.com/Alert/123', 'https://hello.com/Alert/123', 'https://hello.com/Alert/123', 'https://hello.com/Alert/123']}]}\n",
      "{'NRRT_ID': '2', 'rf': [{'feature_name': 'score', 'feature_type': 'MEAS', 'feature_value': '3/5'}, {'feature_name': 'date', 'feature_type': 'MEAS', 'feature_value': 'Feb 2020'}, {'feature_name': '[ABOUT]->(Product)', 'feature_type': 'LINK', 'feature_value': 'Product/123123'}], 'num_node_available': 2121, 'node_ranking': [{'node_address': 'https://gooe.com/Review/4', 'node_abm': 'https://onesto.world/abm/Review/1', 'trust_score': 0.1, 'frequency_score': 1}, {'node_address': 'https://gooe.com/Review/5', 'node_abm': 'https://onesto.world/abm/Review/2', 'trust_score': 0.1, 'frequency_score': 1}], 'link_ranking': [{'origin': 'Allert', 'incoming_node_address': ['https://hello.com/Alert/123', 'https://hello.com/Alert/123', 'https://hello.com/Alert/123', 'https://hello.com/Alert/123']}]}\n"
     ]
    }
   ],
   "source": [
    "for x in nrrt.get('Car'):\n",
    "    print(x)"
   ]
  },
  {
   "cell_type": "code",
   "execution_count": 116,
   "metadata": {},
   "outputs": [
    {
     "name": "stdout",
     "output_type": "stream",
     "text": [
      "ATTR ['model_name', 'color']\n",
      "MEAS ['max_speed', 'consumption']\n",
      "LINK ['(Car)<-[PRODUCED]-(Company)', '(Car)<-[OWNED]-(Person)']\n",
      "score\n",
      "date\n",
      "[ABOUT]->(Product)\n",
      "score\n",
      "date\n",
      "[ABOUT]->(Product)\n"
     ]
    }
   ],
   "source": [
    "'''\n",
    "Select from the NRRT only the cluster_id where (all_RF in DR=TRUE) \n",
    "and among the TRUE one where count(rf) = max (RF count)\n",
    "'''\n",
    "\n",
    "# for every cluster in the rf\n",
    "for x in dr.get('Car'):\n",
    "    print(x,dr.get('Car')[x])\n",
    "    \n",
    "for nrrt_item_name in nrrt.get('Car'):\n",
    "            # 2.  Select from the NRRT only the cluster_id where (all_RF in DR=TRUE) \n",
    "            #     and among the TRUE one where count(rf) = max (RF count) \n",
    "            for rf in nrrt_item_name.get('rf'):\n",
    "                print(rf['feature_name'])\n",
    "if all(item in optimal_cluster[x] for item in ls):\n",
    "                selected_cluster_id.append(y['NRRT_ID'])"
   ]
  },
  {
   "cell_type": "code",
   "execution_count": 119,
   "metadata": {},
   "outputs": [
    {
     "name": "stdout",
     "output_type": "stream",
     "text": [
      "NRRT_ID\n",
      "rf\n",
      "num_node_available\n",
      "node_ranking\n",
      "link_ranking\n",
      "NRRT_ID\n",
      "rf\n",
      "num_node_available\n",
      "node_ranking\n",
      "link_ranking\n"
     ]
    }
   ],
   "source": [
    "for nrrt_item_name in nrrt.get('Car'):\n",
    "            # 2.  Select from the NRRT only the cluster_id where (all_RF in DR=TRUE) \n",
    "            #     and among the TRUE one where count(rf) = max (RF count) \n",
    "            for cluster in nrrt_item_name:\n",
    "                ls = []\n",
    "                ls.append(print(rf['feature_name'])"
   ]
  },
  {
   "cell_type": "code",
   "execution_count": 139,
   "metadata": {},
   "outputs": [
    {
     "name": "stdout",
     "output_type": "stream",
     "text": [
      "['score', 'date', '[ABOUT]->(Product)']\n",
      "['score', 'date', '[ABOUT]->(Product)']\n"
     ]
    }
   ],
   "source": [
    "for cluster in nrrt.get('Car'):\n",
    "    ls = []\n",
    "    for rf in cluster['rf']:\n",
    "        ls.append(rf.get('feature_name'))\n",
    "    print(ls)\n"
   ]
  },
  {
   "cell_type": "code",
   "execution_count": 140,
   "metadata": {},
   "outputs": [
    {
     "name": "stdout",
     "output_type": "stream",
     "text": [
      "{'feature_name': 'score', 'feature_type': 'MEAS', 'feature_value': '3/5'}\n",
      "{'feature_name': 'date', 'feature_type': 'MEAS', 'feature_value': 'January 2020'}\n",
      "{'feature_name': '[ABOUT]->(Product)', 'feature_type': 'LINK', 'feature_value': 'Product/123123'}\n",
      "{'feature_name': 'score', 'feature_type': 'MEAS', 'feature_value': '3/5'}\n",
      "{'feature_name': 'date', 'feature_type': 'MEAS', 'feature_value': 'Feb 2020'}\n",
      "{'feature_name': '[ABOUT]->(Product)', 'feature_type': 'LINK', 'feature_value': 'Product/123123'}\n"
     ]
    }
   ],
   "source": [
    "for cluster in nrrt.get('Car'):\n",
    "    ls = []\n",
    "    for rf in cluster['rf']:\n",
    "        print(rf)\n"
   ]
  },
  {
   "cell_type": "code",
   "execution_count": 141,
   "metadata": {},
   "outputs": [
    {
     "name": "stdout",
     "output_type": "stream",
     "text": [
      "{'UOA': 'Car', 'Car': {'ATTR': ['model_name', 'color'], 'MEAS': ['max_speed', 'consumption'], 'LINK': ['(Car)<-[PRODUCED]-(Company)', '(Car)<-[OWNED]-(Person)']}, 'Company': {'ATTR': ['name', 'website'], 'MEAS': ['revenue'], 'LINK': ['(Company)-[LOCATED]->(Country)']}, 'Country': {'ATTR': ['name', 'capital'], 'MEAS': ['size']}, 'Person': {'ATTR': ['name', 'surname'], 'MEAS': ['weight', 'height']}}\n"
     ]
    }
   ],
   "source": [
    "print(dr)"
   ]
  },
  {
   "cell_type": "code",
   "execution_count": 143,
   "metadata": {},
   "outputs": [
    {
     "name": "stdout",
     "output_type": "stream",
     "text": [
      "UOA\n",
      "Car\n",
      "Company\n",
      "Country\n",
      "Person\n"
     ]
    }
   ],
   "source": [
    "for x in dr:\n",
    "    print(x)"
   ]
  },
  {
   "cell_type": "code",
   "execution_count": 144,
   "metadata": {},
   "outputs": [
    {
     "ename": "SyntaxError",
     "evalue": "unexpected EOF while parsing (<ipython-input-144-44b864d0b955>, line 5)",
     "output_type": "error",
     "traceback": [
      "\u001b[0;36m  File \u001b[0;32m\"<ipython-input-144-44b864d0b955>\"\u001b[0;36m, line \u001b[0;32m5\u001b[0m\n\u001b[0;31m    for cluster in nrrt_item_name:\u001b[0m\n\u001b[0m                                  ^\u001b[0m\n\u001b[0;31mSyntaxError\u001b[0m\u001b[0;31m:\u001b[0m unexpected EOF while parsing\n"
     ]
    }
   ],
   "source": [
    "# 2 Select from the NRRT only the cluster_id where (all_RF in DR=TRUE)\n",
    "    # for each cluster check if all the rf in the cluster are also in the DR\n",
    "    # for the true one, return the cluster_id and the count of  the ranking features (id, count)(1223,4)\n",
    "            #     and among the TRUE one where count(rf) = max (RF count) \n",
    "for cluster in nrrt_item_name:"
   ]
  },
  {
   "cell_type": "code",
   "execution_count": 171,
   "metadata": {},
   "outputs": [],
   "source": [
    "a= {'ATTR': ['attr_1', 'attr_2'], 'MEAS': ['meas_1', 'meas_2'], 'LINK':['link_1','link_2']}\n",
    "b = {\"rf\": [\n",
    "        {\n",
    "          \"feature_name\": \"attr_1\",\n",
    "          \"feature_type\": \"ATTR\",\n",
    "          \"feature_value\": \"hello\"\n",
    "        },\n",
    "        {\n",
    "          \"feature_name\": \"meas_1\",\n",
    "          \"feature_type\": \"MEAS\",\n",
    "          \"feature_value\": \"Feb 2020\"\n",
    "        },\n",
    "        {\n",
    "          \"feature_name\": \"link_1\",\n",
    "          \"feature_type\": \"LINK\",\n",
    "          \"feature_value\": \"Product/123123\"\n",
    "        }]}"
   ]
  },
  {
   "cell_type": "code",
   "execution_count": 172,
   "metadata": {},
   "outputs": [
    {
     "name": "stdout",
     "output_type": "stream",
     "text": [
      "['attr_1'] ['meas_1'] ['link_1'] 3\n"
     ]
    }
   ],
   "source": [
    "ATTR = []\n",
    "MEAS = []\n",
    "LINK = []\n",
    "nuber_of_rf = 0\n",
    "for x in b.get('rf'):\n",
    "    if x['feature_type']=='ATTR':\n",
    "        ATTR.append(x['feature_name'])\n",
    "    if x['feature_type']=='MEAS':\n",
    "        MEAS.append(x['feature_name'])\n",
    "    if x['feature_type']=='LINK':\n",
    "        LINK.append(x['feature_name'])\n",
    "    nuber_of_rf+=1\n",
    "print(ATTR,MEAS,LINK,nuber_of_rf)"
   ]
  },
  {
   "cell_type": "code",
   "execution_count": 173,
   "metadata": {},
   "outputs": [
    {
     "name": "stdout",
     "output_type": "stream",
     "text": [
      "True\n"
     ]
    }
   ],
   "source": [
    "true_false = []\n",
    "for x in a:\n",
    "    if x == 'ATTR':\n",
    "        true_false.append(all(item in a[x] for item in ATTR))\n",
    "    if x == 'MEAS':\n",
    "        true_false.append(all(item in a[x] for item in MEAS))\n",
    "    if x == 'LINK':\n",
    "        true_false.append(all(item in a[x] for item in LINK))\n",
    "print(all(true_false)) #all(return true if all values are true)"
   ]
  },
  {
   "cell_type": "code",
   "execution_count": 166,
   "metadata": {},
   "outputs": [
    {
     "name": "stdout",
     "output_type": "stream",
     "text": [
      "ATTR\n",
      "MEAS\n",
      "LINK\n"
     ]
    }
   ],
   "source": [
    "# for each cluster:\n",
    "# for each rf\n",
    "#check if the feature_name isin the feature_type list of the data_request\n",
    "for x in a:\n",
    "    print(x)"
   ]
  },
  {
   "cell_type": "code",
   "execution_count": 174,
   "metadata": {},
   "outputs": [
    {
     "ename": "SyntaxError",
     "evalue": "unexpected EOF while parsing (<ipython-input-174-3648a3e946ce>, line 32)",
     "output_type": "error",
     "traceback": [
      "\u001b[0;36m  File \u001b[0;32m\"<ipython-input-174-3648a3e946ce>\"\u001b[0;36m, line \u001b[0;32m32\u001b[0m\n\u001b[0;31m    \u001b[0m\n\u001b[0m    ^\u001b[0m\n\u001b[0;31mSyntaxError\u001b[0m\u001b[0;31m:\u001b[0m unexpected EOF while parsing\n"
     ]
    }
   ],
   "source": [
    "# for each cluster of the NRRT\n",
    "#first step is to group all the rf(Ranking Features) by data_type(ATTR,MEAS,LINK)\n",
    "ATTR = []\n",
    "MEAS = []\n",
    "LINK = []\n",
    "nuber_of_rf = 0\n",
    "for x in b.get('rf'):\n",
    "    if x['feature_type']=='ATTR':\n",
    "        ATTR.append(x['feature_name'])\n",
    "    if x['feature_type']=='MEAS':\n",
    "        MEAS.append(x['feature_name'])\n",
    "    if x['feature_type']=='LINK':\n",
    "        LINK.append(x['feature_name'])\n",
    "    nuber_of_rf+=1\n",
    "#after we have grouped all the rf(Ranking Features) by data_type(ATTR,MEAS,LINK)\n",
    "# we need to look at the DR and see if all the ATTR,MEAS and LINK in the cluster_id are also in the DR\n",
    "\n",
    "true_false = []\n",
    "for x in a:\n",
    "    if x == 'ATTR':\n",
    "        true_false.append(all(item in a[x] for item in ATTR))\n",
    "    if x == 'MEAS':\n",
    "        true_false.append(all(item in a[x] for item in MEAS))\n",
    "    if x == 'LINK':\n",
    "        true_false.append(all(item in a[x] for item in LINK))\n",
    "\n",
    "#if all the attr/meas/link in the cluster are present in the DR then we append the (cluster_id, nuber_of_rf)\n",
    "# the cluster_id is used to retrive the nodes\n",
    "# the nuber_of_rf is used as we are going to use the max number of rf available\n",
    "if all(true_false)==True:\n",
    "    #append the (cluster_id, nuber_of_rf)(1223,4)\n",
    "    "
   ]
  },
  {
   "cell_type": "code",
   "execution_count": 203,
   "metadata": {},
   "outputs": [
    {
     "name": "stdout",
     "output_type": "stream",
     "text": [
      "[(1, 3)]\n"
     ]
    }
   ],
   "source": [
    "selected_clusters = []\n",
    "for key in dr:\n",
    "    if key==dr.get('UOA'):\n",
    "        # load the NRRT associated with the UOA\n",
    "        nrrt= nrrt #load the NRRT associated with the UOA for example the https://onesto.world/NRRT/{Item}\n",
    "        item_dr = dr.get(key) # for example the item=Car of the dr\n",
    "        for cluster in nrrt[key]:\n",
    "            # for each cluster of the NRRT\n",
    "            #first step is to group all the rf(Ranking Features) by data_type(ATTR,MEAS,LINK)\n",
    "            ATTR = []\n",
    "            MEAS = []\n",
    "            LINK = []\n",
    "            nuber_of_rf = 0\n",
    "            for x in cluster.get('rf'):\n",
    "                if x['feature_type']=='ATTR':\n",
    "                    ATTR.append(x['feature_name'])\n",
    "                if x['feature_type']=='MEAS':\n",
    "                    MEAS.append(x['feature_name'])\n",
    "                if x['feature_type']=='LINK':\n",
    "                    LINK.append(x['feature_name'])\n",
    "                nuber_of_rf+=1\n",
    "\n",
    "            #after we have grouped all the rf(Ranking Features) by data_type(ATTR,MEAS,LINK)\n",
    "            # we need to look at the DR and see if all the ATTR,MEAS and LINK in the cluster_id are also in the DR\n",
    "            true_false = []\n",
    "            for x in item_dr:\n",
    "                if x == 'ATTR':\n",
    "                    true_false.append(all(item in item_dr[x] for item in ATTR))\n",
    "                if x == 'MEAS':\n",
    "                    true_false.append(all(item in item_dr[x] for item in MEAS))\n",
    "                if x == 'LINK':\n",
    "                    true_false.append(all(item in item_dr[x] for item in LINK))\n",
    "                        \n",
    "            #if all the attr/meas/link in the cluster are present in the DR then we append the (cluster_id, nuber_of_rf)\n",
    "            # the cluster_id is used to retrive the nodes\n",
    "            # the nuber_of_rf is used as we are going to use the max number of rf available\n",
    "            if all(true_false)==True:\n",
    "                #append the (cluster_id, nuber_of_rf)(1223,4)\n",
    "                selected_clusters.append((int(cluster.get('NRRT_ID')),nuber_of_rf))\n",
    "print(selected_clusters)"
   ]
  },
  {
   "cell_type": "code",
   "execution_count": 195,
   "metadata": {},
   "outputs": [],
   "source": [
    "a_list = []\n",
    "a_list.append((1, 2)) \n",
    "a_list.append((1, 2)) "
   ]
  },
  {
   "cell_type": "code",
   "execution_count": 196,
   "metadata": {},
   "outputs": [
    {
     "name": "stdout",
     "output_type": "stream",
     "text": [
      "[(1, 2), (1, 2)]\n"
     ]
    }
   ],
   "source": [
    "print(a_list)"
   ]
  },
  {
   "cell_type": "code",
   "execution_count": 198,
   "metadata": {},
   "outputs": [
    {
     "name": "stdout",
     "output_type": "stream",
     "text": [
      "1\n",
      "2\n"
     ]
    }
   ],
   "source": [
    "for cluster in nrrt.get('Car'):\n",
    "    print(cluster.get('NRRT_ID'))"
   ]
  },
  {
   "cell_type": "code",
   "execution_count": null,
   "metadata": {},
   "outputs": [],
   "source": []
  }
 ],
 "metadata": {
  "kernelspec": {
   "display_name": "Python 3",
   "language": "python",
   "name": "python3"
  },
  "language_info": {
   "codemirror_mode": {
    "name": "ipython",
    "version": 3
   },
   "file_extension": ".py",
   "mimetype": "text/x-python",
   "name": "python",
   "nbconvert_exporter": "python",
   "pygments_lexer": "ipython3",
   "version": "3.8.3"
  }
 },
 "nbformat": 4,
 "nbformat_minor": 4
}
