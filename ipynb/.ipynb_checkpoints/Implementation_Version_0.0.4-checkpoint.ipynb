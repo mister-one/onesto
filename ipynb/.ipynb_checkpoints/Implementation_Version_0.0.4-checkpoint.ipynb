{
 "cells": [
  {
   "cell_type": "code",
   "execution_count": 78,
   "metadata": {},
   "outputs": [],
   "source": [
    "import json\n",
    "import pandas as pd\n",
    "import re\n",
    "import urllib.request"
   ]
  },
  {
   "cell_type": "code",
   "execution_count": 4,
   "metadata": {},
   "outputs": [],
   "source": [
    "'''\n",
    "1. Load the Data_Request(DR)\n",
    "    1.1 identify the UOA\n",
    "2. For the UOA identify the optimal cluster (OCF)\n",
    "    2.1 Select from the NRRT only the cluster_id \n",
    "    where (all_RF in DR=TRUE) \n",
    "    and among the TRUE one where count(rf) = max (RF count)\n",
    "3. Selecting the instances of the UOA that satisfy the DR\n",
    "    3.1 within the cluster we have identified select the select the right instances based on score\n",
    "        1. all the ATTR & MEAS requested in the DR MUST BE PRESENT but LINK can be inherited\n",
    "        # eg in the NRRT we only cluster instances of Cars by MODEL & YEAR \n",
    "        # if a DR wants  {car.model, car.year, car.[produced_by]->(Company.name)\n",
    "        # the instances must have all the ATTR & MEAS but they can miss an outgoing link to Company.\n",
    "        # Indeed the instance can derive the connection from the incoming_links_ranking section present in the NRRT.\n",
    "4. Select the instances that are 1 link away from the UOA\n",
    "    4.1 clear distinction between DIRECT_LINKS vs BEST_RATED_LINKS\n",
    "        if DIRECT_LINKS then the landing node must have all the ATTR & MEAS but the links can be inherited.\n",
    "        If it has the ATTR & MEAS then you consider the cluster at that LOG and seek for more links\n",
    "            eg. (Car)-[produced_by]->(Company) and we want to know the company name and foundation_year\n",
    "                then there must be a clustering in the NRRT with rf = name, foundation_year\n",
    "                we then look in which cluster that instace is in and it han inherit the links\n",
    "        The reason why you dont inherit MEAS & ATTR is beacuse the direct link need to be 100% correct\n",
    "        if the UOA instance is using a BEST_RATED_LINKS we look at the cluster it lands to and \n",
    "        even if there are not all the ATTR & MEAS we can still look for instances within the landed cluster that have those info\n",
    "        eg\n",
    "        (Car)-[produced_by]->(Company)\n",
    "        if the DR want to have the Company.name and Company.foundation_year\n",
    "        if there is DIRECT_LINKS and the landing instance of Companyhas no founded year then we exclude the Car instance\n",
    "        if there is BEST_RATED_LINKS linking to a cluster by just the name (eg name=FIAT) we can look within\n",
    "            the cluster of company with name=FIAT to see if there is an instance that contain the foundation_year.\n",
    "            and if we find it we can keep the car data\n",
    "        \n",
    "'''\n"
   ]
  },
  {
   "cell_type": "code",
   "execution_count": 94,
   "metadata": {},
   "outputs": [
    {
     "name": "stdout",
     "output_type": "stream",
     "text": [
      "{\n",
      "  \"Car\": [\n",
      "    {\n",
      "      \"ABM_ID\": \"1\",\n",
      "      \"ATTR\": [\n",
      "        {\n",
      "          \"attribute_name\": \"a_1\",\n",
      "          \"value_dtype\": \"VARCHAR\"\n",
      "        },\n",
      "        {\n",
      "          \"attribute_name\": \"a_2\",\n",
      "          \"value_dtype\": \"VARCHAR\"\n",
      "        }\n",
      "      ],\n",
      "      \"MEAS\": [\n",
      "        {\n",
      "          \"measure_name\": \"m_1\",\n",
      "          \"measure_type\": \"time\",\n",
      "          \"unit_of_measurement/format\": \"TIMESTAMP\",\n",
      "          \"value_dtype\": \"TIMESTAMP_TZ(default=local_time_zone{UTC_ip_address})\",\n",
      "          \"statistic_type\": \"observation (default)\",\n",
      "          \"measurement_reference_time\": \"__self__\",\n",
      "          \"measurement_precision\": \"\\u00b1(default=NULL)\"\n",
      "        },\n",
      "        {\n",
      "          \"measure_name\": \"m_2\",\n",
      "          \"measure_type\": \"time\",\n",
      "          \"unit_of_measurement/format\": \"TIMESTAMP\",\n",
      "          \"value_dtype\": \"TIMESTAMP_TZ(default=local_time_zone{UTC_ip_address})\",\n",
      "          \"statistic_type\": \"observation (default)\",\n",
      "          \"measurement_reference_time\": \"__self__\",\n",
      "          \"measurement_precision\": \"\\u00b1(default=NULL)\"\n",
      "        }\n",
      "      ],\n",
      "      \"LINK\": [\n",
      "        {\n",
      "          \"relationship\": \"(Review)-[WRITTEN_BY]->(User)\",\n",
      "          \"instances_value_dtype\": \"ABM/User/1\",\n",
      "          \"time_link\": \"False\",\n",
      "          \"link_criteria\": \"best_rated\",\n",
      "          \"values\": \"\\\"{\\\"\\\"User\\\"\\\": { \\\"\\\"link\\\"\\\": \\\"\\\"__input__\\\"\\\"} }\\\"\"\n",
      "        },\n",
      "        {\n",
      "          \"relationship\": \"(Review)-[ABOUT]->(Book)\",\n",
      "          \"instances_value_dtype\": \"ABM/Book/1\",\n",
      "          \"time_link\": \"False\",\n",
      "          \"link_criteria\": \"best_rated\",\n",
      "          \"values\": \"\\\"{\\\"\\\"User\\\"\\\": { \\\"\\\"link\\\"\\\": \\\"\\\"__input__\\\"\\\"} }\\\"\"\n",
      "        }\n",
      "      ],\n",
      "      \"pricing\": {\n",
      "        \"reading_cost\": {\n",
      "          \"amount\": 0.01,\n",
      "          \"currency\": \"USD\"\n",
      "        },\n",
      "        \"confirmed_interaction_cost\": {\n",
      "          \"amount\": 0.01,\n",
      "          \"currency\": \"USD\"\n",
      "        },\n",
      "        \"stake\": {\n",
      "          \"amount\": 0.01,\n",
      "          \"currency\": \"USD\"\n",
      "        }\n",
      "      },\n",
      "      \"privacy\": \"public\"\n",
      "    },\n",
      "    {\n",
      "      \"ABM_ID\": \"2\",\n",
      "      \"ATTR\": [\n",
      "        {\n",
      "          \"attribute_name\": \"a_3\",\n",
      "          \"value_dtype\": \"MEAS\"\n",
      "        },\n",
      "        {\n",
      "          \"attribute_name\": \"a_4\",\n",
      "          \"value_dtype\": \"MEAS\"\n",
      "        }\n",
      "      ],\n",
      "      \"MEAS\": [\n",
      "        {\n",
      "          \"measure_name\": \"m_3\",\n",
      "          \"measure_type\": \"time\",\n",
      "          \"unit_of_measurement/format\": \"TIMESTAMP\",\n",
      "          \"value_dtype\": \"TIMESTAMP_TZ(default=local_time_zone{UTC_ip_address})\",\n",
      "          \"statistic_type\": \"observation (default)\",\n",
      "          \"measurement_reference_time\": \"__self__\",\n",
      "          \"measurement_precision\": \"\\u00b1(default=NULL)\"\n",
      "        },\n",
      "        {\n",
      "          \"measure_name\": \"m_4\",\n",
      "          \"measure_type\": \"time\",\n",
      "          \"unit_of_measurement/format\": \"TIMESTAMP\",\n",
      "          \"value_dtype\": \"TIMESTAMP_TZ(default=local_time_zone{UTC_ip_address})\",\n",
      "          \"statistic_type\": \"observation (default)\",\n",
      "          \"measurement_reference_time\": \"__self__\",\n",
      "          \"measurement_precision\": \"\\u00b1(default=NULL)\"\n",
      "        }\n",
      "      ],\n",
      "      \"LINK\": [\n",
      "        {\n",
      "          \"relationship\": \"(Review)-[ABOUT]->(Book)\",\n",
      "          \"instances_value_dtype\": \"ABM/Book/2\",\n",
      "          \"time_link\": \"False\",\n",
      "          \"link_criteria\": \"best_rated\",\n",
      "          \"values\": \"\\\"{\\\"\\\"User\\\"\\\": { \\\"\\\"link\\\"\\\": \\\"\\\"__input__\\\"\\\"} }\\\"\"\n",
      "        }\n",
      "      ],\n",
      "      \"pricing\": {\n",
      "        \"reading_cost\": {\n",
      "          \"amount\": 0.01,\n",
      "          \"currency\": \"USD\"\n",
      "        },\n",
      "        \"confirmed_interaction_cost\": {\n",
      "          \"amount\": 0.01,\n",
      "          \"currency\": \"USD\"\n",
      "        },\n",
      "        \"stake\": {\n",
      "          \"amount\": 0.01,\n",
      "          \"currency\": \"USD\"\n",
      "        }\n",
      "      },\n",
      "      \"privacy\": \"public\"\n",
      "    }\n",
      "  ]\n",
      "}\n"
     ]
    }
   ],
   "source": [
    "# Sample data\n",
    "\n",
    "# Data_Request\n",
    "with urllib.request.urlopen('https://raw.githubusercontent.com/mister-one/onesto/master/DR/1') as url:\n",
    "    dr = json.loads(url.read().decode())\n",
    "\n",
    "dr_json_str = json.dumps(dr,indent=2, sort_keys=False)\n",
    "#print(dr_json_str)\n",
    "\n",
    "\n",
    "# -----------\n",
    "\n",
    "with urllib.request.urlopen('https://raw.githubusercontent.com/mister-one/onesto/master/NRRT/Car') as url:\n",
    "    nrrt = json.loads(url.read().decode())\n",
    "\n",
    "nrrt_json_str = json.dumps(nrrt,indent=2, sort_keys=False)\n",
    "#print(nrrt_json_str)\n",
    "\n",
    "# -----------\n",
    "with urllib.request.urlopen('https://raw.githubusercontent.com/mister-one/onesto/master/ABM/Car') as url:\n",
    "    abm = json.loads(url.read().decode())\n",
    "\n",
    "abm_json_str = json.dumps(abm,indent=2, sort_keys=False)\n",
    "print(abm_json_str)\n",
    "\n",
    "\n",
    "nrrt = {\n",
    "  \"Car\": [\n",
    "    {\n",
    "      \"NRRT_ID\": \"1\",\n",
    "      \"rf\": [\n",
    "        {\n",
    "          \"feature_name\": \"max_speed\",\n",
    "          \"feature_type\": \"MEAS\",\n",
    "          \"feature_value\": \"3/5\"\n",
    "        },\n",
    "        {\n",
    "          \"feature_name\": \"max_speed\",\n",
    "          \"feature_type\": \"MEAS\",\n",
    "          \"feature_value\": \"January 2020\"\n",
    "        },\n",
    "        {\n",
    "          \"feature_name\": \"(Car)<-[PRODUCED]-(Company)\",\n",
    "          \"feature_type\": \"LINK\",\n",
    "          \"feature_value\": \"Product/123123\"\n",
    "        }\n",
    "      ],\n",
    "      \"num_instance_available\": 2,\n",
    "      \"instance_ranking\": [\n",
    "        {\n",
    "          \"instance_address\": \"https://gooe.com/Review/1\",\n",
    "          \"instance_abm\": \"https://onesto.world/abm/Review/1\",\n",
    "          \"trust_score\": 0.1,\n",
    "          \"frequency_score\": 1\n",
    "        },\n",
    "        {\n",
    "          \"instance_address\": \"https://gooe.com/Review/2\",\n",
    "          \"instance_abm\": \"https://onesto.world/abm/Review/1\",\n",
    "          \"trust_score\": 0.1,\n",
    "          \"frequency_score\": 1\n",
    "        }\n",
    "      ],\n",
    "      \"link_ranking\": [\n",
    "        {\n",
    "          \"origin\": \"Allert\",\n",
    "          \"incoming_instance_address\": [\n",
    "            \"https://hello.com/Alert/123\",\n",
    "            \"https://hello.com/Alert/123\",\n",
    "            \"https://hello.com/Alert/123\",\n",
    "            \"https://hello.com/Alert/123\"\n",
    "          ]\n",
    "        }\n",
    "      ]\n",
    "    },\n",
    "    {\n",
    "      \"NRRT_ID\": \"2\",\n",
    "      \"rf\": [\n",
    "        {\n",
    "          \"feature_name\": \"score\",\n",
    "          \"feature_type\": \"MEAS\",\n",
    "          \"feature_value\": \"3/5\"\n",
    "        },\n",
    "        {\n",
    "          \"feature_name\": \"date\",\n",
    "          \"feature_type\": \"MEAS\",\n",
    "          \"feature_value\": \"Feb 2020\"\n",
    "        },\n",
    "        {\n",
    "          \"feature_name\": \"[ABOUT]->(Product)\",\n",
    "          \"feature_type\": \"LINK\",\n",
    "          \"feature_value\": \"Product/123123\"\n",
    "        }\n",
    "      ],\n",
    "      \"num_instance_available\": 2121,\n",
    "      \"instance_ranking\": [\n",
    "        {\n",
    "          \"instance_address\": \"https://gooe.com/Review/4\",\n",
    "          \"instance_abm\": \"https://onesto.world/abm/Review/1\",\n",
    "          \"trust_score\": 0.1,\n",
    "          \"frequency_score\": 1\n",
    "        },\n",
    "        {\n",
    "          \"instance_address\": \"https://gooe.com/Review/5\",\n",
    "          \"instance_abm\": \"https://onesto.world/abm/Review/2\",\n",
    "          \"trust_score\": 0.1,\n",
    "          \"frequency_score\": 1\n",
    "        }\n",
    "      ],\n",
    "      \"link_ranking\": [\n",
    "        {\n",
    "          \"origin\": \"Allert\",\n",
    "          \"incoming_instance_address\": [\n",
    "            \"https://hello.com/Alert/123\",\n",
    "            \"https://hello.com/Alert/123\",\n",
    "            \"https://hello.com/Alert/123\",\n",
    "            \"https://hello.com/Alert/123\"\n",
    "          ]\n",
    "        }\n",
    "      ]\n",
    "    }\n",
    "  ]\n",
    "}\n",
    "\n",
    "\n",
    "abm = {\n",
    "  \"Review\": [\n",
    "    {\n",
    "      \"ABM_ID\": \"1\",\n",
    "      \"ATTR\": [\n",
    "        {\n",
    "          \"attribute_name\": \"1_a_score\",\n",
    "          \"value_dtype\": \"MEAS\"\n",
    "        },\n",
    "        {\n",
    "          \"attribute_name\": \"1_b_score\",\n",
    "          \"value_dtype\": \"MEAS\"\n",
    "        }\n",
    "      ],\n",
    "      \"MEAS\": [\n",
    "        {\n",
    "          \"measure_name\": \"1_c_when\",\n",
    "          \"measure_type\": \"time\",\n",
    "          \"unit_of_measurement/format\": \"TIMESTAMP\",\n",
    "          \"value_dtype\": \"TIMESTAMP_TZ(default=local_time_zone{UTC_ip_address})\",\n",
    "          \"statistic_type\": \"observation (default)\",\n",
    "          \"measurement_reference_time\": \"__self__\",\n",
    "          \"measurement_precision\": \"±(default=NULL)\"\n",
    "        },\n",
    "        {\n",
    "          \"measure_name\": \"1_d_when\",\n",
    "          \"measure_type\": \"time\",\n",
    "          \"unit_of_measurement/format\": \"TIMESTAMP\",\n",
    "          \"value_dtype\": \"TIMESTAMP_TZ(default=local_time_zone{UTC_ip_address})\",\n",
    "          \"statistic_type\": \"observation (default)\",\n",
    "          \"measurement_reference_time\": \"__self__\",\n",
    "          \"measurement_precision\": \"±(default=NULL)\"\n",
    "        }\n",
    "      ],\n",
    "      \"LINK\": [\n",
    "        {\n",
    "          \"relationship\": \"1_a_(__Self__)-[requested_by]->(__User__)\",\n",
    "          \"instances_value_dtype\": \"JSON(DTYPES)\",\n",
    "          \"time_link\": False,\n",
    "          \"link_criteria\": \"best_rated\",\n",
    "          \"values\": \"\\\"{\\\"\\\"User\\\"\\\": { \\\"\\\"link\\\"\\\": \\\"\\\"__input__\\\"\\\"} }\\\"\"\n",
    "        },\n",
    "        {\n",
    "          \"relationship\": \"1_b_(__Self__)-[requested_by]->(__User__)\",\n",
    "          \"instances_value_dtype\": \"JSON(DTYPES)\",\n",
    "          \"time_link\": False,\n",
    "          \"link_criteria\": \"best_rated\",\n",
    "          \"values\": \"\\\"{\\\"\\\"User\\\"\\\": { \\\"\\\"link\\\"\\\": \\\"\\\"__input__\\\"\\\"} }\\\"\"\n",
    "        }\n",
    "      ],\n",
    "      \"pricing\": {\n",
    "        \"reading_cost\": {\n",
    "          \"amount\": 0.01,\n",
    "          \"currency\": \"USD\"\n",
    "        },\n",
    "        \"confirmed_interaction_cost\": {\n",
    "          \"amount\": 0.01,\n",
    "          \"currency\": \"USD\"\n",
    "        },\n",
    "        \"stake\": {\n",
    "          \"amount\": 0.01,\n",
    "          \"currency\": \"USD\"\n",
    "        }\n",
    "      },\n",
    "      \"privacy\": \"public\"\n",
    "    },\n",
    "    {\n",
    "      \"ABM_ID\": \"2\",\n",
    "      \"ATTR\": [\n",
    "        {\n",
    "          \"attribute_name\": \"2_a_score\",\n",
    "          \"value_dtype\": \"MEAS\"\n",
    "        },\n",
    "        {\n",
    "          \"attribute_name\": \"2_b_score\",\n",
    "          \"value_dtype\": \"MEAS\"\n",
    "        }\n",
    "      ],\n",
    "      \"MEAS\": [\n",
    "        {\n",
    "          \"measure_name\": \"2_c_when\",\n",
    "          \"measure_type\": \"time\",\n",
    "          \"unit_of_measurement/format\": \"TIMESTAMP\",\n",
    "          \"value_dtype\": \"TIMESTAMP_TZ(default=local_time_zone{UTC_ip_address})\",\n",
    "          \"statistic_type\": \"observation (default)\",\n",
    "          \"measurement_reference_time\": \"__self__\",\n",
    "          \"measurement_precision\": \"±(default=NULL)\"\n",
    "        },\n",
    "        {\n",
    "          \"measure_name\": \"2_d_when\",\n",
    "          \"measure_type\": \"time\",\n",
    "          \"unit_of_measurement/format\": \"TIMESTAMP\",\n",
    "          \"value_dtype\": \"TIMESTAMP_TZ(default=local_time_zone{UTC_ip_address})\",\n",
    "          \"statistic_type\": \"observation (default)\",\n",
    "          \"measurement_reference_time\": \"__self__\",\n",
    "          \"measurement_precision\": \"±(default=NULL)\"\n",
    "        }\n",
    "      ],\n",
    "      \"LINK\": [\n",
    "        {\n",
    "          \"relationship\": \"2_a_(__Self__)-[requested_by]->(__User__)\",\n",
    "          \"instances_value_dtype\": \"JSON(DTYPES)\",\n",
    "          \"time_link\": False,\n",
    "          \"link_criteria\": \"best_rated\",\n",
    "          \"values\": \"\\\"{\\\"\\\"User\\\"\\\": { \\\"\\\"link\\\"\\\": \\\"\\\"__input__\\\"\\\"} }\\\"\"\n",
    "        },\n",
    "        {\n",
    "          \"relationship\": \"2_b_(__Self__)-[requested_by]->(__User__)\",\n",
    "          \"instances_value_dtype\": \"JSON(DTYPES)\",\n",
    "          \"time_link\": False,\n",
    "          \"link_criteria\": \"best_rated\",\n",
    "          \"values\": \"\\\"{\\\"\\\"User\\\"\\\": { \\\"\\\"link\\\"\\\": \\\"\\\"__input__\\\"\\\"} }\\\"\"\n",
    "        }\n",
    "      ],\n",
    "      \"pricing\": {\n",
    "        \"reading_cost\": {\n",
    "          \"amount\": 0.01,\n",
    "          \"currency\": \"USD\"\n",
    "        },\n",
    "        \"confirmed_interaction_cost\": {\n",
    "          \"amount\": 0.01,\n",
    "          \"currency\": \"USD\"\n",
    "        },\n",
    "        \"stake\": {\n",
    "          \"amount\": 0.01,\n",
    "          \"currency\": \"USD\"\n",
    "        }\n",
    "      },\n",
    "      \"privacy\": \"public\"\n",
    "    }\n",
    "      \n",
    "  ]\n",
    "}\n"
   ]
  },
  {
   "cell_type": "code",
   "execution_count": 6,
   "metadata": {},
   "outputs": [],
   "source": [
    "'''\n",
    "Needs to be done\n",
    "1. remove nrrt from the input of the function and make it retrive trough a http request\n",
    "'''\n",
    "def get_clusters_uoa(dr,nrrt):\n",
    "    \n",
    "    selected_clusters = []\n",
    "    for key in dr:\n",
    "        if key==dr.get('UOA'):\n",
    "            # load the NRRT associated with the UOA\n",
    "            nrrt = nrrt #load the NRRT associated with the UOA for example the https://onesto.world/NRRT/{Item}\n",
    "            item_dr = dr.get(key) # for example the item=Car of the dr\n",
    "            for cluster in nrrt[key]:\n",
    "                # for each cluster of the NRRT\n",
    "                #first step is to group all the rf(Ranking Features) by data_type(ATTR,MEAS,LINK)\n",
    "                ATTR = []\n",
    "                MEAS = []\n",
    "                LINK = []\n",
    "                nuber_of_rf = 0\n",
    "                for x in cluster.get('rf'):\n",
    "                    if x['feature_type']=='ATTR':\n",
    "                        ATTR.append(x['feature_name'])\n",
    "                    if x['feature_type']=='MEAS':\n",
    "                        MEAS.append(x['feature_name'])\n",
    "                    if x['feature_type']=='LINK':\n",
    "                        LINK.append(x['feature_name'])\n",
    "                    nuber_of_rf+=1\n",
    "    \n",
    "                #after we have grouped all the rf(Ranking Features) by data_type(ATTR,MEAS,LINK)\n",
    "                # we need to look at the DR and see if all the ATTR,MEAS and LINK in the cluster_id are also in the DR\n",
    "                true_false = []\n",
    "                for x in item_dr:\n",
    "                    if x == 'ATTR':\n",
    "                        true_false.append(all(item in item_dr[x] for item in ATTR))\n",
    "                    if x == 'MEAS':\n",
    "                        true_false.append(all(item in item_dr[x] for item in MEAS))\n",
    "                    if x == 'LINK':\n",
    "                        true_false.append(all(item in item_dr[x] for item in LINK))\n",
    "                            \n",
    "                #if all the attr/meas/link in the cluster are present in the DR then we append the (cluster_id, nuber_of_rf)\n",
    "                # the cluster_id is used to retrive the nodes\n",
    "                # the nuber_of_rf is used as we are going to use the max number of rf available\n",
    "                if all(true_false)==True:\n",
    "                    #append the (cluster_id, nuber_of_rf)(1223,4)\n",
    "                    selected_clusters.append((int(cluster.get('NRRT_ID')),nuber_of_rf))\n",
    "    return(selected_clusters)"
   ]
  },
  {
   "cell_type": "code",
   "execution_count": 7,
   "metadata": {},
   "outputs": [
    {
     "data": {
      "text/plain": [
       "[(1, 3)]"
      ]
     },
     "execution_count": 7,
     "metadata": {},
     "output_type": "execute_result"
    }
   ],
   "source": [
    "get_clusters_uoa(dr,nrrt)"
   ]
  },
  {
   "cell_type": "code",
   "execution_count": 25,
   "metadata": {},
   "outputs": [
    {
     "name": "stdout",
     "output_type": "stream",
     "text": [
      "3\n",
      "3\n"
     ]
    }
   ],
   "source": [
    "'''\n",
    "\n",
    "DONE and among the TRUE one where count(rf) = max (RF count)\n",
    " 3. Selecting the instances of the UOA that satisfy the DR\n",
    "LATER    3.1 within the cluster we have identified select the right instances based on score\n",
    "        1. all the ATTR & MEAS requested in the DR MUST BE PRESENT but LINK can be inherited\n",
    "        # eg in the NRRT we only cluster instances of Cars by MODEL & YEAR \n",
    "        # if a DR wants  {car.model, car.year, car.[produced_by]->(Company.name)\n",
    "        # the instances must have all the ATTR & MEAS but they can miss an outgoing link to Company.\n",
    "        # Indeed the instance can derive the connection from the incoming_links_ranking section present in the NRRT.\n",
    "'''\n",
    "ls = [(1,2),(1,2),(3,9),(3,9)]\n",
    "\n",
    "\n",
    "# Identifying the max number of features for clusters that have all the ranking features\n",
    "n_rf=[]\n",
    "for x,y in ls:\n",
    "    n_rf.append(y)\n",
    "max_available_rf = max(n_rf)\n",
    "\n",
    "#select the nrrt_id where the number of rf is the max\n",
    "for x,y in ls:\n",
    "    if y == max_available_rf:\n",
    "        print(x)"
   ]
  },
  {
   "cell_type": "code",
   "execution_count": 38,
   "metadata": {},
   "outputs": [],
   "source": [
    "# FOR EACH NODE IN THE CLUSTER MAKE SURE THAT:\n",
    "# ALL THE ATTR & MEAS ARE THERE FROM THE ABM\n",
    "    # IF THE LINK IS THERE THEN GREAT OTHERWISE WE NEED TO CKECK IF FROM THERE IS AN INCOMING LINK IN THE NRRT"
   ]
  },
  {
   "cell_type": "code",
   "execution_count": 39,
   "metadata": {},
   "outputs": [
    {
     "name": "stdout",
     "output_type": "stream",
     "text": [
      "ABM_ID\n",
      "ATTR\n",
      "MEAS\n",
      "LINK\n",
      "pricing\n",
      "privacy\n",
      "ABM_ID\n",
      "ATTR\n",
      "MEAS\n",
      "LINK\n",
      "pricing\n",
      "privacy\n"
     ]
    }
   ],
   "source": [
    "for x in abm['Review']:\n",
    "    for y in x:\n",
    "        print(y)"
   ]
  },
  {
   "cell_type": "code",
   "execution_count": 98,
   "metadata": {},
   "outputs": [],
   "source": [
    "# of the instances that have all the attr & MEAS\n",
    "# 1. check if they have a link\n",
    "    # if they do have a link then ok\n",
    "    # if they dont then look in the cluster if there is an incominglink from that\n",
    "    #    and out of the the one you have selected check if the\n",
    "    # get the node and get the link\n",
    "    \n",
    "#  [(https://oneweb.com/Book/1313,0.7,0.99),link,\n",
    "# if they have a link -> request link -> \n",
    "                            # if direct link scann the ABM to know if they landing nodehas all the ATTR / mEAS\n",
    "                            # if best rated link then look in the landing cluster if there is a node with all the ATTR & MEAS\n",
    "        \n",
    "# if they dont have a link then check for the cluster they are in if the incoming link are good\n",
    "    # which means that you have to check if the incoming instances have all the ATTR & MEAS\n",
    "    \n",
    "    \n",
    "    \n",
    "def get_clusters_uoa(dr):\n",
    "    \n",
    "    selected_clusters = []\n",
    "    for key in dr:\n",
    "        if key==dr.get('UOA'):\n",
    "            # load the NRRT associated with the UOA\n",
    "            with urllib.request.urlopen(f'https://raw.githubusercontent.com/mister-one/onesto/master/NRRT/{key}') as url:\n",
    "                nrrt = json.loads(url.read().decode()) #load the NRRT associated with the UOA for example the https://onesto.world/NRRT/{Item}\n",
    "            item_dr = dr.get(key) # for example the item=Car of the dr\n",
    "            for cluster in nrrt[key]:\n",
    "                # for each cluster of the NRRT\n",
    "                #first step is to group all the rf(Ranking Features) by data_type(ATTR,MEAS,LINK)\n",
    "                ATTR = []\n",
    "                MEAS = []\n",
    "                LINK = []\n",
    "                nuber_of_rf = 0\n",
    "                for x in cluster.get('rf'):\n",
    "                    if x['feature_type']=='ATTR':\n",
    "                        ATTR.append(x['feature_name'])\n",
    "                    if x['feature_type']=='MEAS':\n",
    "                        MEAS.append(x['feature_name'])\n",
    "                    if x['feature_type']=='LINK':\n",
    "                        LINK.append(x['feature_name'])\n",
    "                    nuber_of_rf+=1\n",
    "    \n",
    "                #after we have grouped all the rf(Ranking Features) by data_type(ATTR,MEAS,LINK)\n",
    "                # we need to look at the DR and see if all the ATTR,MEAS and LINK in the cluster_id are also in the DR\n",
    "                true_false = []\n",
    "                for x in item_dr:\n",
    "                    if x == 'ATTR':\n",
    "                        true_false.append(all(item in item_dr[x] for item in ATTR))\n",
    "                    if x == 'MEAS':\n",
    "                        true_false.append(all(item in item_dr[x] for item in MEAS))\n",
    "                    if x == 'LINK':\n",
    "                        true_false.append(all(item in item_dr[x] for item in LINK))\n",
    "                            \n",
    "                #if all the attr/meas/link in the cluster are present in the DR then we append the (cluster_id, nuber_of_rf)\n",
    "                # the cluster_id is used to retrive the nodes\n",
    "                # the nuber_of_rf is used as we are going to use the max number of rf available\n",
    "                if all(true_false)==True:\n",
    "                    #append the (cluster_id, nuber_of_rf)(1223,4)\n",
    "                    selected_clusters.append((int(cluster.get('NRRT_ID')),nuber_of_rf))\n",
    "\n",
    "\n",
    "    # Identifying the max number of features for clusters that have all the ranking features\n",
    "    n_rf=[]\n",
    "    for x,y in selected_clusters:\n",
    "        n_rf.append(y)\n",
    "    max_available_rf = max(n_rf)\n",
    "\n",
    "    #select the nrrt_id where the number of rf is the max\n",
    "    best_matched_clusters = []\n",
    "    for x,y in selected_clusters:\n",
    "        if y == max_available_rf:\n",
    "            best_matched_clusters.append(x)\n",
    "    \n",
    "    return(best_matched_clusters)\n",
    "\n"
   ]
  },
  {
   "cell_type": "code",
   "execution_count": 99,
   "metadata": {},
   "outputs": [
    {
     "name": "stdout",
     "output_type": "stream",
     "text": [
      "[1]\n"
     ]
    }
   ],
   "source": [
    "uoa_cluster = get_clusters_uoa(dr)\n",
    "print(uoa_cluster)\n",
    "\n",
    "uoa_cluster = [1,2]"
   ]
  },
  {
   "cell_type": "code",
   "execution_count": 61,
   "metadata": {},
   "outputs": [
    {
     "name": "stdout",
     "output_type": "stream",
     "text": [
      "1\n",
      "2\n"
     ]
    }
   ],
   "source": [
    "# for each cluster returned by the get_clusters_uoa we need to:\n",
    "    # 1. chek for each instance in the cluster the ABM\n",
    "        # if the ABM has all the ATT & MEAS \n",
    "            # then verify the link\n",
    "            # if Best_rated look at in the landing cluster if there are the required data\n",
    "            # if direct link check \n",
    "for x in uoa_cluster:\n",
    "    # get the cluster with this ID from the NRRT\n",
    "    "
   ]
  },
  {
   "cell_type": "code",
   "execution_count": 77,
   "metadata": {},
   "outputs": [
    {
     "name": "stdout",
     "output_type": "stream",
     "text": [
      "https://onesto.world/abm/Review/1\n",
      "https://onesto.world/abm/Review/1\n",
      "https://onesto.world/abm/Review/1\n",
      "https://onesto.world/abm/Review/2\n"
     ]
    }
   ],
   "source": [
    "for cluster in nrrt.get(dr.get('UOA')): # for every cluster in the nrrt\n",
    "    if int(cluster['NRRT_ID']) in uoa_cluster: # if the cluster id is in the selcted clusters\n",
    "        for instance in cluster['instance_ranking']: # for every \n",
    "            print(instance['instance_abm'])"
   ]
  },
  {
   "cell_type": "code",
   "execution_count": 63,
   "metadata": {},
   "outputs": [
    {
     "name": "stdout",
     "output_type": "stream",
     "text": [
      "1\n",
      "2\n"
     ]
    }
   ],
   "source": [
    "for x in nrrt.get(dr.get('UOA')):\n",
    "    print(x['NRRT_ID'])"
   ]
  },
  {
   "cell_type": "code",
   "execution_count": 69,
   "metadata": {},
   "outputs": [
    {
     "name": "stdout",
     "output_type": "stream",
     "text": [
      "True\n",
      "True\n"
     ]
    }
   ],
   "source": [
    "for x in nrrt.get(dr.get('UOA')):\n",
    "    print(int(x['NRRT_ID']) in uoa_cluster)"
   ]
  },
  {
   "cell_type": "code",
   "execution_count": 93,
   "metadata": {},
   "outputs": [
    {
     "data": {
      "text/plain": [
       "False"
      ]
     },
     "execution_count": 93,
     "metadata": {},
     "output_type": "execute_result"
    }
   ],
   "source": [
    "False"
   ]
  },
  {
   "cell_type": "code",
   "execution_count": 100,
   "metadata": {},
   "outputs": [
    {
     "name": "stdout",
     "output_type": "stream",
     "text": [
      "UOA\n",
      "Car\n",
      "Company\n",
      "Country\n",
      "Person\n"
     ]
    }
   ],
   "source": [
    "for key in dr:\n",
    "    print(key)"
   ]
  },
  {
   "cell_type": "code",
   "execution_count": 120,
   "metadata": {},
   "outputs": [],
   "source": [
    "def get_optimal_clusters(dr):\n",
    "    \n",
    "    selected_clusters = []\n",
    "    dictionary_best_matched_clusters = {}\n",
    "    for key in dr:\n",
    "        if key!='UOA':\n",
    "            # load the NRRT associated with the UOA\n",
    "            with urllib.request.urlopen(f'https://raw.githubusercontent.com/mister-one/onesto/master/NRRT/{key}') as url:\n",
    "                nrrt = json.loads(url.read().decode()) #load the NRRT associated with the UOA for example the https://onesto.world/NRRT/{Item}\n",
    "            item_dr = dr.get(key) # for example the item=Car of the dr\n",
    "            for cluster in nrrt[key]:\n",
    "                # for each cluster of the NRRT\n",
    "                #first step is to group all the rf(Ranking Features) by data_type(ATTR,MEAS,LINK)\n",
    "                ATTR = []\n",
    "                MEAS = []\n",
    "                LINK = []\n",
    "                nuber_of_rf = 0\n",
    "                for x in cluster.get('rf'):\n",
    "                    if x['feature_type']=='ATTR':\n",
    "                        ATTR.append(x['feature_name'])\n",
    "                    if x['feature_type']=='MEAS':\n",
    "                        MEAS.append(x['feature_name'])\n",
    "                    if x['feature_type']=='LINK':\n",
    "                        LINK.append(x['feature_name'])\n",
    "                    nuber_of_rf+=1\n",
    "    \n",
    "                #after we have grouped all the rf(Ranking Features) by data_type(ATTR,MEAS,LINK)\n",
    "                # we need to look at the DR and see if all the ATTR,MEAS and LINK in the cluster_id are also in the DR\n",
    "                true_false = []\n",
    "                for x in item_dr:\n",
    "                    if x == 'ATTR':\n",
    "                        true_false.append(all(item in item_dr[x] for item in ATTR))\n",
    "                    if x == 'MEAS':\n",
    "                        true_false.append(all(item in item_dr[x] for item in MEAS))\n",
    "                    if x == 'LINK':\n",
    "                        true_false.append(all(item in item_dr[x] for item in LINK))\n",
    "                            \n",
    "                #if all the attr/meas/link in the cluster are present in the DR then we append the (cluster_id, nuber_of_rf)\n",
    "                # the cluster_id is used to retrive the nodes\n",
    "                # the nuber_of_rf is used as we are going to use the max number of rf available\n",
    "                if all(true_false)==True:\n",
    "                    #append the (cluster_id, nuber_of_rf)(1223,4)\n",
    "                    selected_clusters.append((int(cluster.get('NRRT_ID')),nuber_of_rf))\n",
    "\n",
    "\n",
    "    # Identifying the max number of features for clusters that have all the ranking features\n",
    "            n_rf=[]\n",
    "            for x,y in selected_clusters:\n",
    "                n_rf.append(y)\n",
    "            max_available_rf = max(n_rf,default=0)\n",
    "        \n",
    "            #select the nrrt_id where the number of rf is the max\n",
    "            best_matched_clusters = []\n",
    "            for x,y in selected_clusters:\n",
    "                if y == max_available_rf:\n",
    "                    best_matched_clusters.append(x)\n",
    "            dictionary_best_matched_clusters[key] = best_matched_clusters\n",
    "        \n",
    "    return(dictionary_best_matched_clusters)\n",
    "\n"
   ]
  },
  {
   "cell_type": "code",
   "execution_count": 102,
   "metadata": {},
   "outputs": [],
   "source": [
    "best_matched_clusters_d = {}\n",
    "key = 'Car'\n",
    "best_matched_clusters = [1,2]\n",
    "best_matched_clusters_d[key] = best_matched_clusters"
   ]
  },
  {
   "cell_type": "code",
   "execution_count": 103,
   "metadata": {},
   "outputs": [
    {
     "name": "stdout",
     "output_type": "stream",
     "text": [
      "{'Car': [1, 2]}\n"
     ]
    }
   ],
   "source": []
  },
  {
   "cell_type": "code",
   "execution_count": 144,
   "metadata": {},
   "outputs": [
    {
     "name": "stdout",
     "output_type": "stream",
     "text": [
      "{'Car': [1], 'Company': [1], 'Country': [1], 'Person': [1]}\n"
     ]
    }
   ],
   "source": [
    "a = get_optimal_clusters(dr)\n",
    "print(a)"
   ]
  },
  {
   "cell_type": "code",
   "execution_count": 266,
   "metadata": {},
   "outputs": [
    {
     "name": "stdout",
     "output_type": "stream",
     "text": [
      "{'instance_address': 'https://gooe.com/Review/1', 'instance_abm': 'https://onesto.world/abm/Review/1', 'trust_score': 0.1, 'frequency_score': 1}\n",
      "1\n",
      "[True, False, False]\n",
      "['model_name', 'color'] ['m_1', 'm_2'] ['(Review)-[WRITTEN_BY]->(User)', '(Review)-[ABOUT]->(Book)']\n",
      "{'instance_address': 'https://gooe.com/Review/2', 'instance_abm': 'https://onesto.world/abm/Review/1', 'trust_score': 0.1, 'frequency_score': 1}\n",
      "1\n",
      "[True, False, False]\n",
      "['model_name', 'color'] ['m_1', 'm_2'] ['(Review)-[WRITTEN_BY]->(User)', '(Review)-[ABOUT]->(Book)']\n"
     ]
    }
   ],
   "source": [
    "f(dr)"
   ]
  },
  {
   "cell_type": "code",
   "execution_count": 265,
   "metadata": {},
   "outputs": [],
   "source": [
    "'''\n",
    "start from uoa\n",
    "get_optimal_clusters for the UOA\n",
    "for each cluster and for each instance in the cluster get the ABM\n",
    "look at the abm\n",
    "case_1 (IT HAS a relationship that match in the ABM)\n",
    "if in the ABM we can find all the ATTR, MEAS & LINK [True,True,True] then we request the link\n",
    "    IF LINK is DIRECT\n",
    "        look at the landing instance \n",
    "            retrive the ABM\n",
    "                check if it has all the ATTR & MEAS\n",
    "                    IF there is a link in the dr check if it also has the link OK\n",
    "                    IF there is a link in the dr but no link then check if this instance is in the optimal_cluster of the NRRT\n",
    "    [https://gooe.com/Review/2,{'relationship':'(Company)-[LOCATED]->(Country)','Instances':['a','b']},]\n",
    "    and for each link\n",
    "        if the link is best rated \n",
    "            look at the landing cluster NRRT/id\n",
    "        if the link is direct\n",
    "'''\n",
    "def f(dr):\n",
    "    dictionary_best_matched_clusters = get_optimal_clusters(dr)\n",
    "    for key in dr:\n",
    "        if key == dr.get('UOA'):\n",
    "            with urllib.request.urlopen(f'https://raw.githubusercontent.com/mister-one/onesto/master/NRRT/{key}') as url:\n",
    "                nrrt = json.loads(url.read().decode()) #load the NRRT associated with the UOA for example the https://onesto.world/NRRT/{Item}\n",
    "            with urllib.request.urlopen(f'https://raw.githubusercontent.com/mister-one/onesto/master/ABM/{key}') as url:\n",
    "                abm = json.loads(url.read().decode())[key]\n",
    "            for cluster in nrrt[key]:\n",
    "                if int(cluster['NRRT_ID']) in dictionary_best_matched_clusters[key]:\n",
    "                    for instance in cluster['instance_ranking']:\n",
    "                        print(instance)\n",
    "                        abm_id = re.findall(\"([^/]+$)\",instance.get('instance_abm'))[0] # this is the ABM_id\n",
    "                        print(abm_id)\n",
    "                        for abm_document in abm:\n",
    "                            if int(abm_document['ABM_ID'])==int(abm_id):\n",
    "                                ATTR = []\n",
    "                                MEAS = []\n",
    "                                LINK = []\n",
    "                                for x in abm_document['ATTR']:\n",
    "                                    ATTR.append(x.get('attribute_name'))\n",
    "                                for x in abm_document['MEAS']:\n",
    "                                    MEAS.append(x.get('measure_name'))\n",
    "                                for x in abm_document['LINK']:\n",
    "                                    LINK.append(x.get('relationship'))\n",
    "                                \n",
    "                                \n",
    "                                true_false = []\n",
    "                                for x in dr.get(key):\n",
    "                                    if x == 'ATTR':\n",
    "                                        true_false.append(all(item in dr.get(key)[x] for item in ATTR))\n",
    "                                    if x == 'MEAS':\n",
    "                                        true_false.append(all(item in dr.get(key)[x] for item in MEAS))\n",
    "                                    if x == 'LINK':\n",
    "                                        true_false.append(all(item in dr.get(key)[x] for item in LINK))\n",
    "                                            \n",
    "\n",
    "                                # the the logical_statement below is true than this means that all the ATTR & MEAS are present\n",
    "                                if true_false[0]==True & true_false[1]==True:\n",
    "                                    if true_false[3]==True:\n",
    "                                        #Start of the option:has link option either Direct or Best Rated\n",
    "                                        \n",
    "                                        ##### link = request_link(instance_address['instance_address']))\n",
    "                                        if bool(re.search(\"^NRRT\", link)):\n",
    "                                            # if the above is true then we are talking about a BEST RATED LINK\n",
    "                                            \n",
    "                                        \n",
    "                                        \n",
    "                                        \n",
    "                                    if true_false[3]==False:\n",
    "                                        #Start of the option:has no link in the ABM\n",
    "                                    print('hell')\n",
    "                                print(true_false)\n",
    "                                print(ATTR,MEAS,LINK)\n",
    "                        \n",
    "                        \n",
    "                        \n",
    "                        "
   ]
  },
  {
   "cell_type": "code",
   "execution_count": 159,
   "metadata": {},
   "outputs": [],
   "source": [
    "import re\n",
    "\n",
    "txt = \"The rain in Spain\"\n",
    "x = str(re.findall(\"^The.*Spain$\", txt)[0])"
   ]
  },
  {
   "cell_type": "code",
   "execution_count": 184,
   "metadata": {},
   "outputs": [
    {
     "name": "stdout",
     "output_type": "stream",
     "text": [
      "0\n",
      "1\n",
      "2\n",
      "3\n",
      "4\n",
      "5\n"
     ]
    }
   ],
   "source": [
    "for n in range(10):\n",
    "    print(n)\n",
    "    if n == 5:\n",
    "        break "
   ]
  },
  {
   "cell_type": "code",
   "execution_count": 211,
   "metadata": {},
   "outputs": [
    {
     "name": "stdout",
     "output_type": "stream",
     "text": [
      "Number is 5\n",
      "Out of loop\n"
     ]
    }
   ],
   "source": [
    "number = 0\n",
    "\n",
    "for number in range(10):\n",
    "    if number != 5:\n",
    "        continue\n",
    "        if number == 5:\n",
    "            break# continue here\n",
    "\n",
    "    print('Number is ' + str(number))\n",
    "print('Out of loop')"
   ]
  },
  {
   "cell_type": "code",
   "execution_count": 239,
   "metadata": {},
   "outputs": [],
   "source": [
    "dr = {\n",
    "  \"UOA\": \"Car\",\n",
    "  \"Car\": {\n",
    "    \"ATTR\": [\n",
    "      \"model_name\",\n",
    "      \"color\"\n",
    "    ],\n",
    "    \"MEAS\": [\n",
    "      \"max_speed\",\n",
    "      \"consumption\"\n",
    "    ],\n",
    "    \"LINK\": [\n",
    "      \"(Car)<-[PRODUCED]-(Company)\",\n",
    "      \"(Car)<-[OWNED]-(Person)\"\n",
    "    ]\n",
    "  },\n",
    "  \"Company\": {\n",
    "    \"ATTR\": [\n",
    "      \"name\",\n",
    "      \"website\"\n",
    "    ],\n",
    "    \"MEAS\": [\n",
    "      \"revenue\"\n",
    "    ],\n",
    "    \"LINK\": [\n",
    "      \"(Company)-[LOCATED]->(Country)\"\n",
    "    ]\n",
    "  },\n",
    "  \"Country\": {\n",
    "    \"ATTR\": [\n",
    "      \"name\",\n",
    "      \"capital\"\n",
    "    ],\n",
    "    \"MEAS\": [\n",
    "      \"size\"\n",
    "    ]\n",
    "  },\n",
    "  \"Person\": {\n",
    "    \"ATTR\": [\n",
    "      \"name\",\n",
    "      \"surname\"\n",
    "    ],\n",
    "    \"MEAS\": [\n",
    "      \"weight\",\n",
    "      \"height\"\n",
    "    ]\n",
    "  }\n",
    "}\n"
   ]
  },
  {
   "cell_type": "code",
   "execution_count": 247,
   "metadata": {},
   "outputs": [],
   "source": [
    "ls = [1,2,{'a':1}]"
   ]
  },
  {
   "cell_type": "code",
   "execution_count": 248,
   "metadata": {},
   "outputs": [
    {
     "data": {
      "text/plain": [
       "[1, 2, {'a': 1}]"
      ]
     },
     "execution_count": 248,
     "metadata": {},
     "output_type": "execute_result"
    }
   ],
   "source": [
    "ls"
   ]
  },
  {
   "cell_type": "code",
   "execution_count": 250,
   "metadata": {},
   "outputs": [
    {
     "name": "stdout",
     "output_type": "stream",
     "text": [
      "{'a': 1}\n"
     ]
    }
   ],
   "source": [
    "for x in ls:\n",
    "    if type(x)==dict:\n",
    "        print(x)"
   ]
  },
  {
   "cell_type": "code",
   "execution_count": 251,
   "metadata": {},
   "outputs": [],
   "source": [
    "fo = {'relationship':'(Company)-[LOCATED]->(Country)','Instances':['a','b']}"
   ]
  },
  {
   "cell_type": "code",
   "execution_count": 259,
   "metadata": {},
   "outputs": [
    {
     "name": "stdout",
     "output_type": "stream",
     "text": [
      "(Company)-[LOCATED]->(Country)\n",
      "<class 'str'>\n",
      "['a', 'b']\n",
      "<class 'list'>\n"
     ]
    }
   ],
   "source": [
    "for x in fo.values():\n",
    "    print(x)\n",
    "    print(type(x))"
   ]
  },
  {
   "cell_type": "code",
   "execution_count": 277,
   "metadata": {},
   "outputs": [
    {
     "name": "stdout",
     "output_type": "stream",
     "text": [
      "fe\n"
     ]
    }
   ],
   "source": [
    "\n",
    "\n",
    "txt = \"NRRT/qwe\"\n",
    "if bool(re.search(\"^NRRT\", txt)):\n",
    "\n",
    "\n"
   ]
  },
  {
   "cell_type": "code",
   "execution_count": null,
   "metadata": {},
   "outputs": [],
   "source": []
  }
 ],
 "metadata": {
  "kernelspec": {
   "display_name": "Python 3",
   "language": "python",
   "name": "python3"
  },
  "language_info": {
   "codemirror_mode": {
    "name": "ipython",
    "version": 3
   },
   "file_extension": ".py",
   "mimetype": "text/x-python",
   "name": "python",
   "nbconvert_exporter": "python",
   "pygments_lexer": "ipython3",
   "version": "3.8.3"
  }
 },
 "nbformat": 4,
 "nbformat_minor": 4
}
