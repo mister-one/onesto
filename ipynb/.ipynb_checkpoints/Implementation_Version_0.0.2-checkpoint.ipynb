{
 "cells": [
  {
   "cell_type": "markdown",
   "metadata": {},
   "source": [
    "# Documentation\n",
    "\n",
    "This file contain the functions used to serve the user requets.\n",
    "\n",
    "To understand how we perform the rankin please refer to [this file](https://google.com).\n",
    "\n",
    "## User story\n",
    "\n",
    "#### STEP_1: The user uploads a Data_Request\n",
    "\n",
    "#### Eg.\n",
    "For example the user wants to retrive the Reviews about Product.\n",
    "In particluar the user wants to know for each review the DATE and the SCORE of the review. He also wants to know what Product is the review ABOUT and what is the CATEGORY of the product.\n",
    "\n",
    "#### Review.score | Review.date\t| (Review)-[ABOUT]->(Product).name\t| (Review)-[ABOUT]->(Product).category |\n",
    "\n",
    "In order to do so he is asked to upload a Data_Request (DR) where he specifies the:\n",
    "\n",
    "UOA (Unit-Of-Analysis): this is the item where we are going to start our reserach and should ideally be the Item of most interest in the reseacrh the user is conducting.\n",
    "\n",
    "ATTRIBUTES\n",
    "\n",
    "MEASURES\n",
    "\n",
    "LINKS \n",
    "\n",
    "of his request.\n",
    "This enables us to retrive all the nodes that have the required informations.\n",
    "\n",
    "#### STEP_2: Identifying the optimal cluster we will scann\n",
    "\n",
    "Based on the DR we will select the cluster that minimises the number of nodes in each cluster, given our pre-existing raking. To do so we select the NRRT (Node-Relationship-Ranking-Table) of the UOA.\n",
    "Within the NRRT we look at the ranking feature we have available and we identify the right clustering.\n",
    "\n",
    "#### Eg.\n",
    "Given that our user UOA = Review we select the NRRT for Reviews.\n",
    "In this NRRT we notice that we have only clustered reviws by DATE & [ABOUT]\n",
    "\n",
    "\n",
    "\n",
    "#### STEP_3:Retrieving the nodes that match the DR\n",
    "After we have identified the best cluster available (minimize nodes per cluster) we need to match the nodes that satisfy the DR.\n",
    "In order to do so we need to make sure that all the ATT/MEAS/LINKS requested in the DR are available.\n",
    "We first make sure that all the features of the UOA are met, and we then move on to scan the linked Items.\n",
    "\n",
    "\n",
    "### Eg.\n",
    "\n",
    "for our UOA = Review we need to make sure that all the ATTRIBUTES and MEASURES for each Review are avialable. For the links and the ATT/MEAS/LINK of the other Item linked to the review (in our case Product) this is more complicated.\n",
    "\n",
    "We scan the ABM of each node in the cluster to see if they have the required features.\n",
    "\n",
    "When looking at the linked items we need to discriminated between (DIRECT_LINKS vs BEST_RATED_LINK)\n",
    "\n",
    "DIRECT_LINK:\n",
    "If you link a (Review) to a (Book) based on the ISBN with a direct link you DON’T INHERIT THE ATTRIBUTES & MEASURES  of the other nodes in the cluster but you DO INHERIT the INCOMING_BEST_RATED LINKS of the cluster you are in\n",
    "\n",
    "\n",
    "BEST_RATED_LINK:\n",
    "If you link a (Review) to a (Book) based on the ISBN with a BEST_RATED link you DO INHERIT THE ATTRIBUTES & MEASURES  of the best rated nodes in the landing cluster. And as with the direct links you also INHERIT the INCOMING_BEST_RATED LINKS of the cluster you are in\n",
    "we scan the Review clustered by date and [ABOUT] to selct all the nodes that have a Review.score\n",
    "we select the nodes that have a score & a ABOUT link pointing to Product\n",
    "Then we select only the product that have a name & category\n",
    "Etsy has it Ebay & Amazon is more complex\n",
    "\"If the Ebay Review has a direct link to a product https://ebay.com/Product/123 i need to check if:\n",
    "  1. the landing node has a Product_name & category\n",
    "  2. If we also want to know the MANUFACTURER we must check if the link is not defined in the node if there is a link in the cluster the node is in or in the incoming interaction links. \"\n",
    "\n",
    "\n"
   ]
  },
  {
   "cell_type": "markdown",
   "metadata": {},
   "source": [
    "---------------------------------------------------------------------------------------------------\n",
    "## Notes\n",
    "\n",
    "---------------------------------------------------------------------------------------------------\n",
    "\n",
    "\n",
    "1. from the UOA select the best cluster\n",
    "2. for each cluster select the nodes that have the ATT & MEAS\n",
    "3. for each cluster check the (CONFIRMATION/SIMILARITY ranking & the TRUST/STAKING ranking)\n",
    "4. for links check: (NRRT-Incoming links) + (Direct outgoing links BEST_RATED) + (OUTGOING DIRECT links) + (INCOMING DIRECT interaction links)\n",
    "    1. for NRRT-incoming links verifify if the pointing node meets the criteria\n",
    "    2. for Direct outgoing links verify if the node they are poing to meet the criteria ATT/MEAS + for links check (outgoing links (direct/best_rated) + NRRT-Incoming links fo the cluster the node is in + \n"
   ]
  },
  {
   "cell_type": "code",
   "execution_count": 1,
   "metadata": {},
   "outputs": [],
   "source": [
    "'''\n",
    "---------------------------------------------------------------\n",
    "All imports here\n",
    "---------------------------------------------------------------\n",
    "'''\n",
    "\n",
    "import json\n",
    "import pandas as pd\n",
    "import re\n",
    "import urllib.request"
   ]
  },
  {
   "cell_type": "code",
   "execution_count": 3,
   "metadata": {},
   "outputs": [
    {
     "name": "stdout",
     "output_type": "stream",
     "text": [
      "{\n",
      "  \"UOA\": \"Review\",\n",
      "  \"Review\": {\n",
      "    \"feature_1\": \"date\",\n",
      "    \"feature_2\": \"score\",\n",
      "    \"feature_3\": \"-[ABOUT]->(Product)\"\n",
      "  },\n",
      "  \"Product\": {\n",
      "    \"feature_1\": \"name\",\n",
      "    \"feature_2\": \"category\"\n",
      "  }\n",
      "}\n"
     ]
    }
   ],
   "source": [
    "'''\n",
    "---------------------------------------------------------------\n",
    "All the data.files imported here\n",
    "---------------------------------------------------------------\n",
    "'''\n",
    "\n",
    "# Data_Request\n",
    "with urllib.request.urlopen('https://raw.githubusercontent.com/mister-one/onesto/master/data_request/dr_test_1') as url:\n",
    "    dr = json.loads(url.read().decode())\n",
    "\n",
    "dr_json_str = json.dumps(dr,indent=2, sort_keys=False)\n",
    "print(dr_json_str)"
   ]
  },
  {
   "cell_type": "code",
   "execution_count": 35,
   "metadata": {},
   "outputs": [
    {
     "data": {
      "text/plain": [
       "'\\nSelect Cluster\\nThis function returns the NRRT_ID of the clusters that match the right LOG\\nis used to find the nodes that match the Data_Request requiremnts.\\nAfter we have identified the best cluster we have avilable we need to:\\n1. Verify all ATTRIBUTES are present for the nodes in each different cluster\\n2. Verify all MEASURES are present for the nodes in each different cluster\\n3. Verify the LINKS are present for the nodes in each different cluster\\n4. Make sure we check the CONFIRMATION/SIMILARITY ranking & the TRUST/STAKING ranking within each cluster\\n'"
      ]
     },
     "execution_count": 35,
     "metadata": {},
     "output_type": "execute_result"
    }
   ],
   "source": [
    "'''\n",
    "ALL FUNCTIONS\n",
    "'''\n",
    "\n",
    "'''\n",
    "ocf (Optimal Cluster Finder)\n",
    "This function is used to find the right cluster when retriving the data\n",
    "For each item we look at the features in the DR and find the item that has the lowest number of nodes.\n",
    "'''\n",
    "def ocf(data_request):\n",
    "    # --------\n",
    "    # INPUTS\n",
    "    items =  []\n",
    "    nrrt = {}\n",
    "    features_by_item = {}\n",
    "    unique_ranking_features = {}\n",
    "    optimal_cluster = {}\n",
    "    \n",
    "    # --------\n",
    "    # PROCESS\n",
    "    \n",
    "    #STEP_1: retrive the items from the data_request\n",
    "    for x in data_request:\n",
    "        if x != 'UOA':\n",
    "            items.append(x)\n",
    "    \n",
    "    #STEP_2: retrive the items NRRT from the data_request\n",
    "    for x in items:\n",
    "        nrrt[x]=(f\"https://raw.githubusercontent.com/mister-one/onesto/master/nrrt/{x}\")\n",
    "    \n",
    "    \n",
    "    #STEP_3 dictionary of the features by item in the request\n",
    "    for x in data_request:\n",
    "        if x != 'UOA':\n",
    "            for y in data_request[x]:\n",
    "                if x in features_by_item:\n",
    "                    features_by_item[x].append(data_request[x][y])\n",
    "                else:\n",
    "                    features_by_item[x] = [data_request[x][y]]\n",
    "    \n",
    "    # STEP_4 check the # of ranking feature available for each item\n",
    "    for key in nrrt:\n",
    "        with urllib.request.urlopen(f'{nrrt[key]}') as url:\n",
    "            data = json.loads(url.read().decode())\n",
    "            for x in data:\n",
    "                for y in data[x]:\n",
    "                    urf = set()\n",
    "                    for z in y['rf']:\n",
    "                        urf.add(z['feature_name'])\n",
    "                unique_ranking_features[x] = list(urf)\n",
    "                \n",
    "    # STEP_5 identify the cluster we can use for each item\n",
    "    for x in features_by_item:\n",
    "        features = []\n",
    "        for y in features_by_item[x]:\n",
    "            if y in unique_ranking_features[x]:\n",
    "                features.append(y)\n",
    "        optimal_cluster[x]=features\n",
    "  \n",
    "    \n",
    "    \n",
    "    \n",
    "    # --------\n",
    "    # OUTPUT\n",
    "    return (optimal_cluster)\n",
    "    # items =  [list of Items in the data_request (Car, Review, Engine)]\n",
    "    # nrrt = [list of http adress of the ranking table]\n",
    "    # features_by_item = {Dictionay of the features for each item of the DR}\n",
    "    # available_ranking_features = {list of columns in the NRRT}\n",
    "\n",
    "    \n",
    "\n",
    "\n",
    "'''\n",
    "Select Cluster\n",
    "This function returns the NRRT_ID of the clusters that match the right LOG\n",
    "'''    \n",
    "def select_cluster(data_request):\n",
    "    # --------\n",
    "    # INPUTS\n",
    "    uoa =  data_request[\"UOA\"] #find the UOA in the data_request (EG. Review)\n",
    "    optimal_cluster = ocf(data_request)\n",
    "    # --------\n",
    "    # PROCESS\n",
    "    \n",
    "    #STEP_1: retrive the right cluster in the UOA\n",
    "    selected_clusters = {}\n",
    "    for x in optimal_cluster:\n",
    "        with urllib.request.urlopen(f\"https://raw.githubusercontent.com/mister-one/onesto/master/nrrt/{x}\") as url:\n",
    "            nrrt = json.loads(url.read().decode())\n",
    "        selected_cluster_id = []\n",
    "        for y in nrrt[x]:\n",
    "            ls =[]\n",
    "            for z in y['rf']:\n",
    "                ls.append(z['feature_name'])\n",
    "            if all(item in optimal_cluster[x] for item in ls):\n",
    "                selected_cluster_id.append(y['NRRT_ID'])\n",
    "        selected_clusters[x]=selected_cluster_id\n",
    "        \n",
    "        \n",
    "    # --------\n",
    "    # OUTPUT\n",
    "    return(selected_clusters)\n",
    "\n",
    "'''\n",
    "Select Cluster\n",
    "This function returns the NRRT_ID of the clusters that match the right LOG\n",
    "is used to find the nodes that match the Data_Request requiremnts.\n",
    "After we have identified the best cluster we have avilable we need to:\n",
    "1. Verify all ATTRIBUTES are present for the nodes in each different cluster\n",
    "2. Verify all MEASURES are present for the nodes in each different cluster\n",
    "3. Verify the LINKS are present for the nodes in each different cluster\n",
    "4. Make sure we check the CONFIRMATION/SIMILARITY ranking & the TRUST/STAKING ranking within each cluster\n",
    "'''   \n"
   ]
  },
  {
   "cell_type": "markdown",
   "metadata": {},
   "source": [
    "---------------------------------------------------------------------------------------------------\n",
    "## Notes\n",
    "\n",
    "---------------------------------------------------------------------------------------------------\n",
    "\n",
    "1. from the UOA select the best cluster\n",
    "2. for each cluster select the nodes that have the ATT & MEAS\n",
    "3. for each cluster check the (CONFIRMATION/SIMILARITY ranking & the TRUST/STAKING ranking)\n",
    "4. for links check: (NRRT-Incoming links) + (Direct outgoing links BEST_RATED) + (OUTGOING DIRECT links) + (INCOMING DIRECT interaction links)\n",
    "    1. for NRRT-incoming links verifify if the pointing node meets the criteria\n",
    "    2. for Direct outgoing links verify if the node they are poing to meet the criteria ATT/MEAS + for links check (outgoing links (direct/best_rated) + NRRT-Incoming links fo the cluster the node is in + \n"
   ]
  },
  {
   "cell_type": "code",
   "execution_count": 36,
   "metadata": {},
   "outputs": [
    {
     "data": {
      "text/plain": [
       "{'Review': [], 'Product': []}"
      ]
     },
     "execution_count": 36,
     "metadata": {},
     "output_type": "execute_result"
    }
   ],
   "source": [
    "select_cluster(dr)"
   ]
  },
  {
   "cell_type": "code",
   "execution_count": 24,
   "metadata": {},
   "outputs": [
    {
     "name": "stdout",
     "output_type": "stream",
     "text": [
      "{'Review': ['date', 'score'], 'Product': []}\n"
     ]
    }
   ],
   "source": [
    "matched_clusters = {}\n",
    "features_by_item = {'Review': ['date', 'score', '-[ABOUT]->(Product)'],'Product': ['name', 'category']}\n",
    "unique_ranking_features = {'Review': ['[ABOUT]->(Product)', 'date', 'score'], 'Product': ['[ABOUT]->(Product)', 'date', 'score']}\n",
    "\n",
    "for x in features_by_item:\n",
    "    features = []\n",
    "    for y in features_by_item[x]:\n",
    "        if y in unique_ranking_features[x]:\n",
    "            features.append(y)\n",
    "    matched_clusters[x]=features\n",
    "\n"
   ]
  },
  {
   "cell_type": "code",
   "execution_count": 200,
   "metadata": {},
   "outputs": [
    {
     "name": "stdout",
     "output_type": "stream",
     "text": [
      "{'oscar_age_female.csv': {'feature_1': 'date', 'feature_2': 'score', 'feature_3': '-[ABOUT]->(Product)'}, 'hurricanes.csv': {'feature_1': 'date', 'feature_2': 'score', 'feature_3': '-[ABOUT]->(Product)'}, 'grades.csv': {'feature_1': 'name', 'feature_2': 'category'}}\n",
      "oscar_age_female.csv\n",
      "hurricanes.csv\n",
      "grades.csv\n"
     ]
    }
   ],
   "source": [
    "copy_dr = json.loads(dr)\n",
    "\n",
    "#print(copy_dr[\"UOA\"])\n",
    "'''\n",
    "for x in copy_dr:\n",
    "    if x == copy_dr['UOA']:\n",
    "        for y in copy_dr[x]:\n",
    "            print(copy_dr[x][y])'''\n",
    "\n",
    "print(copy_dr)\n",
    "for x in copy_dr:\n",
    "        if x != 'UOA':\n",
    "            print(x)"
   ]
  },
  {
   "cell_type": "code",
   "execution_count": null,
   "metadata": {},
   "outputs": [],
   "source": [
    "matched_clusters = []\n",
    "        for x in data['Review']:\n",
    "            c = []\n",
    "    for y in x['rf']:\n",
    "        f.append(y['feature_name'])\n",
    "    print(all(x in optimal_cluster for x in c))\n",
    "    matched_clusters.append(x['NRRT_ID'])"
   ]
  }
 ],
 "metadata": {
  "kernelspec": {
   "display_name": "Python 3",
   "language": "python",
   "name": "python3"
  },
  "language_info": {
   "codemirror_mode": {
    "name": "ipython",
    "version": 3
   },
   "file_extension": ".py",
   "mimetype": "text/x-python",
   "name": "python",
   "nbconvert_exporter": "python",
   "pygments_lexer": "ipython3",
   "version": "3.8.3"
  }
 },
 "nbformat": 4,
 "nbformat_minor": 2
}
