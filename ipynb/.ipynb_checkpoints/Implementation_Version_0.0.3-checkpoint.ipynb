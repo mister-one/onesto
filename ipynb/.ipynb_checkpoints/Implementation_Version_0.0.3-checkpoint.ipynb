{
 "cells": [
  {
   "cell_type": "code",
   "execution_count": 1,
   "metadata": {},
   "outputs": [],
   "source": [
    "import pandas as pd"
   ]
  },
  {
   "cell_type": "code",
   "execution_count": null,
   "metadata": {},
   "outputs": [],
   "source": [
    "'''\n",
    "1. Load the Data_Request(DR)\n",
    "    1.1 identify the UOA\n",
    "2. For the UOA identify the optimal cluster (OCF)\n",
    "    2.1 Select from the NRRT only the cluster_id \n",
    "    where (all_RF in DR=TRUE) \n",
    "    and among the TRUE one where count(rf) = max (RF count)\n",
    "3. Selecting the instances of the UOA that satisfy the DR\n",
    "    3.1 within the cluster we have identified select the select the right instances based on score\n",
    "        1. all the ATTR & MEAS requested in the DR MUST BE PRESENT but LINK can be inherited\n",
    "        # eg in the NRRT we only cluster instances of Cars by MODEL & YEAR \n",
    "        # if a DR wants  {car.model, car.year, car.[produced_by]->(Company.name)\n",
    "        # the instances must have all the ATTR & MEAS but they can miss an outgoing link to Company.\n",
    "        # Indeed the instance can derive the connection from the incoming_links_ranking section present in the NRRT.\n",
    "4. Select the instances that are 1 link away from the UOA\n",
    "    4.1 clear distinction between DIRECT_LINKS vs BEST_RATED_LINKS\n",
    "        if DIRECT_LINKS then the landing node must have all \n",
    "        \n",
    "'''"
   ]
  }
 ],
 "metadata": {
  "kernelspec": {
   "display_name": "Python 3",
   "language": "python",
   "name": "python3"
  },
  "language_info": {
   "codemirror_mode": {
    "name": "ipython",
    "version": 3
   },
   "file_extension": ".py",
   "mimetype": "text/x-python",
   "name": "python",
   "nbconvert_exporter": "python",
   "pygments_lexer": "ipython3",
   "version": "3.8.3"
  }
 },
 "nbformat": 4,
 "nbformat_minor": 4
}
