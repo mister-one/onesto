{
 "cells": [
  {
   "cell_type": "code",
   "execution_count": 1,
   "metadata": {},
   "outputs": [],
   "source": [
    "import json\n",
    "import pandas as pd\n",
    "import re\n",
    "import urllib.request"
   ]
  },
  {
   "cell_type": "code",
   "execution_count": 2,
   "metadata": {},
   "outputs": [],
   "source": [
    "def get_optimal_clusters(dr):\n",
    "    \n",
    "    selected_clusters = []\n",
    "    dictionary_best_matched_clusters = {}\n",
    "    for key in dr:\n",
    "        if key!='UOA':\n",
    "            # load the NRRT associated with the UOA\n",
    "            with urllib.request.urlopen(f'https://raw.githubusercontent.com/mister-one/onesto/master/NRRT/{key}') as url:\n",
    "                nrrt = json.loads(url.read().decode()) #load the NRRT associated with the UOA for example the https://onesto.world/NRRT/{Item}\n",
    "            item_dr = dr.get(key) # for example the item=Car of the dr\n",
    "            for cluster in nrrt[key]:\n",
    "                # for each cluster of the NRRT\n",
    "                #first step is to group all the rf(Ranking Features) by data_type(ATTR,MEAS,LINK)\n",
    "                ATTR = []\n",
    "                MEAS = []\n",
    "                LINK = []\n",
    "                nuber_of_rf = 0\n",
    "                for x in cluster.get('rf'):\n",
    "                    if x['feature_type']=='ATTR':\n",
    "                        ATTR.append(x['feature_name'])\n",
    "                    if x['feature_type']=='MEAS':\n",
    "                        MEAS.append(x['feature_name'])\n",
    "                    if x['feature_type']=='LINK':\n",
    "                        LINK.append(x['feature_name'])\n",
    "                    nuber_of_rf+=1\n",
    "    \n",
    "                #after we have grouped all the rf(Ranking Features) by data_type(ATTR,MEAS,LINK)\n",
    "                # we need to look at the DR and see if all the ATTR,MEAS and LINK in the cluster_id are also in the DR\n",
    "                true_false = []\n",
    "                for x in item_dr:\n",
    "                    if x == 'ATTR':\n",
    "                        true_false.append(all(item in item_dr[x] for item in ATTR))\n",
    "                    if x == 'MEAS':\n",
    "                        true_false.append(all(item in item_dr[x] for item in MEAS))\n",
    "                    if x == 'LINK':\n",
    "                        true_false.append(all(item in item_dr[x] for item in LINK))\n",
    "                            \n",
    "                #if all the attr/meas/link in the cluster are present in the DR then we append the (cluster_id, nuber_of_rf)\n",
    "                # the cluster_id is used to retrive the nodes\n",
    "                # the nuber_of_rf is used as we are going to use the max number of rf available\n",
    "                if all(true_false)==True:\n",
    "                    #append the (cluster_id, nuber_of_rf)(1223,4)\n",
    "                    selected_clusters.append((int(cluster.get('NRRT_ID')),nuber_of_rf))\n",
    "\n",
    "\n",
    "    # Identifying the max number of features for clusters that have all the ranking features\n",
    "            n_rf=[]\n",
    "            for x,y in selected_clusters:\n",
    "                n_rf.append(y)\n",
    "            max_available_rf = max(n_rf,default=0)\n",
    "        \n",
    "            #select the nrrt_id where the number of rf is the max\n",
    "            best_matched_clusters = []\n",
    "            for x,y in selected_clusters:\n",
    "                if y == max_available_rf:\n",
    "                    best_matched_clusters.append(x)\n",
    "            dictionary_best_matched_clusters[key] = best_matched_clusters\n",
    "        \n",
    "    return(dictionary_best_matched_clusters)\n",
    "\n"
   ]
  },
  {
   "cell_type": "code",
   "execution_count": 3,
   "metadata": {},
   "outputs": [
    {
     "name": "stdout",
     "output_type": "stream",
     "text": [
      "{'UOA': 'Car', 'Car': {'ATTR': ['model_name', 'color'], 'MEAS': ['max_speed', 'consumption'], 'LINK': ['(Car)<-[PRODUCED]-(Company)', '(Car)<-[OWNED]-(Person)']}, 'Company': {'ATTR': ['name', 'website'], 'MEAS': ['revenue'], 'LINK': ['(Company)-[LOCATED]->(Country)']}, 'Country': {'ATTR': ['name', 'capital'], 'MEAS': ['size']}, 'Person': {'ATTR': ['name', 'surname'], 'MEAS': ['weight', 'height']}}\n"
     ]
    }
   ],
   "source": [
    "with urllib.request.urlopen('https://raw.githubusercontent.com/mister-one/onesto/master/DR/1') as url:\n",
    "    dr = json.loads(url.read().decode())\n",
    "print(dr)"
   ]
  },
  {
   "cell_type": "code",
   "execution_count": 4,
   "metadata": {},
   "outputs": [
    {
     "data": {
      "text/plain": [
       "{'Car': [1], 'Company': [1], 'Country': [1], 'Person': [1]}"
      ]
     },
     "execution_count": 4,
     "metadata": {},
     "output_type": "execute_result"
    }
   ],
   "source": [
    "get_optimal_clusters(dr)"
   ]
  },
  {
   "cell_type": "code",
   "execution_count": 66,
   "metadata": {},
   "outputs": [],
   "source": [
    "'''\n",
    "start from uoa\n",
    "get_optimal_clusters for the UOA\n",
    "for each cluster and for each instance in the cluster get the ABM\n",
    "look at the abm\n",
    "case_1 (IT HAS a relationship that match in the ABM)\n",
    "if in the ABM we can find all the ATTR, MEAS & LINK [True,True,True] then we request the link\n",
    "    IF LINK is DIRECT\n",
    "        look at the landing instance \n",
    "            retrive the ABM\n",
    "                check if it has all the ATTR & MEAS\n",
    "                    IF there is a link in the dr check if it also has the link OK\n",
    "                    IF there is a link in the dr but no link then check if this instance is in the optimal_cluster of the NRRT\n",
    "    [https://gooe.com/Review/2,{'relationship':'(Company)-[LOCATED]->(Country)','Instances':['a','b']},]\n",
    "    and for each link\n",
    "        if the link is best rated \n",
    "            look at the landing cluster NRRT/id\n",
    "        if the link is direct\n",
    "'''\n",
    "def f(dr):\n",
    "    dictionary_best_matched_clusters = get_optimal_clusters(dr)\n",
    "    for key in dr:\n",
    "        if key == dr.get('UOA'):\n",
    "            with urllib.request.urlopen(f'https://raw.githubusercontent.com/mister-one/onesto/master/NRRT/{key}') as url:\n",
    "                nrrt = json.loads(url.read().decode()) #load the NRRT associated with the UOA for example the https://onesto.world/NRRT/{Item}\n",
    "            with urllib.request.urlopen(f'https://raw.githubusercontent.com/mister-one/onesto/master/ABM/{key}') as url:\n",
    "                abm = json.loads(url.read().decode())[key]\n",
    "            for cluster in nrrt[key]:\n",
    "                if int(cluster['NRRT_ID']) in dictionary_best_matched_clusters[key]:\n",
    "                    for instance in cluster['instance_ranking']:\n",
    "                        print(instance)\n",
    "                        abm_id = re.findall(\"([^/]+$)\",instance.get('instance_abm'))[0] # this is the ABM_id\n",
    "                        print(abm_id)\n",
    "                        for abm_document in abm:\n",
    "                            if int(abm_document['ABM_ID'])==int(abm_id):\n",
    "                                ATTR = []\n",
    "                                MEAS = []\n",
    "                                LINK = []\n",
    "                                for x in abm_document['ATTR']:\n",
    "                                    ATTR.append(x.get('attribute_name'))\n",
    "                                for x in abm_document['MEAS']:\n",
    "                                    MEAS.append(x.get('measure_name'))\n",
    "                                for x in abm_document['LINK']:\n",
    "                                    LINK.append(x.get('relationship'))\n",
    "                                \n",
    "                                \n",
    "                                true_false = []\n",
    "                                for x in dr.get(key):\n",
    "                                    if x == 'ATTR':\n",
    "                                        true_false.append(all(item in dr.get(key)[x] for item in ATTR))\n",
    "                                    if x == 'MEAS':\n",
    "                                        true_false.append(all(item in dr.get(key)[x] for item in MEAS))\n",
    "                                    if x == 'LINK':\n",
    "                                        true_false.append(all(item in dr.get(key)[x] for item in LINK))\n",
    "                                            \n",
    "\n",
    "                                # the the logical_statement below is true than this means that all the ATTR & MEAS are present\n",
    "                                if true_false[0]==True & true_false[1]==True:\n",
    "                                    if true_false[2]==True:\n",
    "                                        #Start of the option:has link option either Direct or Best Rated\n",
    "                                        # \n",
    "                                        # the link_dr are the links requested in the DR for the UOA\n",
    "                                        # Eg. ['(Car)<-[PRODUCED]-(Company)', '(Car)<-[OWNED]-(Person)']\n",
    "                                        link_dr = dr.get(key)['LINK'] \n",
    "                                        # we then retrieve the link from the \n",
    "                                        retrieved_link = request_link(instance['instance_address'])\n",
    "                                        # retrieved_link = [{'relationship': '(Company)-[PRODUCED]->(Car)', 'landing_instance': 'NRRT/Car/1'}, {'relationship': '(Company)-[LOCATED]->(Country)', 'landing_instance': 'NRRT/Car/1'}]\n",
    "                                        for link in retrieved_link:\n",
    "                                            # if the link is among the requested ones\n",
    "                                            if link['relationship'] in link_dr:\n",
    "                                                # if the link is of type best rated hece will be NRRT\n",
    "                                                if bool(re.search(\"^NRRT\", link['landing_instance'])):\n",
    "                                                    # the item_ is telleing us where the link is going\n",
    "                                                    item_ = re.findall(\"(?<=\\/).+?(?=\\/)\",link['landing_instance'])[0]\n",
    "                                                    cluster_id_ = re.findall(\"[^/]*$\",link)[0]\n",
    "                                                    #load the NRRT associated with the UOA for example the https://onesto.worl/NRRT/\n",
    "                                                    with urllib.request.urlopen(f'https://raw.githubusercontent.com/mister-one/onesto/master/NRRT/{item_}') as url:\n",
    "                                                        nrrt_item = json.loads(url.read().decode()) \n",
    "                                                    #retrieve the specific cluster in the NRRT\n",
    "                                                    cluster_ = nrrt_item[key][cluster_id_]\n",
    "                                                    for instance_ in cluster_['instance_ranking']:\n",
    "                                                        #check if they have all the features request\n",
    "                                                        pass # ___edit___\n",
    "                                            # if the above is true then we are talking about a BEST RATED LINK\n",
    "                                            #1. retive the nrrt fro the \n",
    "                                        \n",
    "                                        \n",
    "                                        \n",
    "                                    if true_false[2]==False:\n",
    "                                        print('false') ########################## TEST\n",
    "                                        #Start of the option:has no link in the ABM\n",
    "                                    print('hell')\n",
    "                                print(true_false)\n",
    "                                print(ATTR,MEAS,LINK)\n",
    "                                print(dr.get(key)['LINK'])\n",
    "                                print(x,key)\n",
    "                        \n",
    "                        \n",
    "                        \n",
    "                        "
   ]
  },
  {
   "cell_type": "code",
   "execution_count": 39,
   "metadata": {},
   "outputs": [
    {
     "name": "stdout",
     "output_type": "stream",
     "text": [
      "{'instance_address': 'https://gooe.com/Review/1', 'instance_abm': 'https://onesto.world/abm/Review/1', 'trust_score': 0.1, 'frequency_score': 1}\n",
      "1\n",
      "[True, False, False]\n",
      "['model_name', 'color'] ['m_1', 'm_2'] ['(Review)-[WRITTEN_BY]->(User)', '(Review)-[ABOUT]->(Book)']\n",
      "['(Car)<-[PRODUCED]-(Company)', '(Car)<-[OWNED]-(Person)']\n",
      "LINK Car\n",
      "{'instance_address': 'https://gooe.com/Review/2', 'instance_abm': 'https://onesto.world/abm/Review/1', 'trust_score': 0.1, 'frequency_score': 1}\n",
      "1\n",
      "[True, False, False]\n",
      "['model_name', 'color'] ['m_1', 'm_2'] ['(Review)-[WRITTEN_BY]->(User)', '(Review)-[ABOUT]->(Book)']\n",
      "['(Car)<-[PRODUCED]-(Company)', '(Car)<-[OWNED]-(Person)']\n",
      "LINK Car\n"
     ]
    }
   ],
   "source": [
    "f(dr) "
   ]
  },
  {
   "cell_type": "code",
   "execution_count": 165,
   "metadata": {},
   "outputs": [],
   "source": [
    "# link = request_link(instance_address['instance_address']))\n",
    "def request_link(instance_address):\n",
    "    with urllib.request.urlopen(instance_address) as url:\n",
    "        instance = json.loads(url.read().decode()) #load the NRRT associated with the UOA for example the https://one\n",
    "    return (instance['LINK'])"
   ]
  },
  {
   "cell_type": "code",
   "execution_count": 50,
   "metadata": {},
   "outputs": [],
   "source": [
    "b = request_link('https://raw.githubusercontent.com/mister-one/onesto/master/NODE_ONESTO/INSTANCE/Company/1')\n",
    "\n",
    "a = {'instance_address': 'https://gooe.com/Review/1', 'instance_abm': 'https://onesto.world/abm/Review/1', 'trust_score': 0.1, 'frequency_score': 1}"
   ]
  },
  {
   "cell_type": "code",
   "execution_count": 57,
   "metadata": {},
   "outputs": [
    {
     "name": "stdout",
     "output_type": "stream",
     "text": [
      "{'relationship': '(Company)-[PRODUCED]->(Car)', 'landing_instance': 'NRRT/Car/1'}\n",
      "{'relationship': '(Company)-[LOCATED]->(Country)', 'landing_instance': 'NRRT/Car/1'}\n",
      "[{'relationship': '(Company)-[PRODUCED]->(Car)', 'landing_instance': 'NRRT/Car/1'}, {'relationship': '(Company)-[LOCATED]->(Country)', 'landing_instance': 'NRRT/Car/1'}]\n"
     ]
    }
   ],
   "source": [
    "for x in b:\n",
    "    print(x)\n",
    "print(b)\n"
   ]
  },
  {
   "cell_type": "code",
   "execution_count": 16,
   "metadata": {},
   "outputs": [
    {
     "name": "stdout",
     "output_type": "stream",
     "text": [
      "{'UOA': 'Car', 'Car': {'ATTR': ['model_name', 'color'], 'MEAS': ['max_speed', 'consumption'], 'LINK': ['(Car)<-[PRODUCED]-(Company)', '(Car)<-[OWNED]-(Person)']}, 'Company': {'ATTR': ['name', 'website'], 'MEAS': ['revenue'], 'LINK': ['(Company)-[LOCATED]->(Country)']}, 'Country': {'ATTR': ['name', 'capital'], 'MEAS': ['size']}, 'Person': {'ATTR': ['name', 'surname'], 'MEAS': ['weight', 'height']}}\n"
     ]
    }
   ],
   "source": [
    "print(dr)"
   ]
  },
  {
   "cell_type": "code",
   "execution_count": 18,
   "metadata": {},
   "outputs": [
    {
     "name": "stdout",
     "output_type": "stream",
     "text": [
      "Car\n",
      "{'ATTR': ['model_name', 'color'], 'MEAS': ['max_speed', 'consumption'], 'LINK': ['(Car)<-[PRODUCED]-(Company)', '(Car)<-[OWNED]-(Person)']}\n",
      "{'ATTR': ['name', 'website'], 'MEAS': ['revenue'], 'LINK': ['(Company)-[LOCATED]->(Country)']}\n",
      "{'ATTR': ['name', 'capital'], 'MEAS': ['size']}\n",
      "{'ATTR': ['name', 'surname'], 'MEAS': ['weight', 'height']}\n"
     ]
    }
   ],
   "source": [
    "for x in dr:\n",
    "    print(dr[x])"
   ]
  },
  {
   "cell_type": "code",
   "execution_count": 58,
   "metadata": {},
   "outputs": [
    {
     "ename": "NameError",
     "evalue": "name 'nrrt' is not defined",
     "output_type": "error",
     "traceback": [
      "\u001b[0;31m---------------------------------------------------------------------------\u001b[0m",
      "\u001b[0;31mNameError\u001b[0m                                 Traceback (most recent call last)",
      "\u001b[0;32m<ipython-input-58-38ce1212da3a>\u001b[0m in \u001b[0;36m<module>\u001b[0;34m\u001b[0m\n\u001b[1;32m      1\u001b[0m \u001b[0mc\u001b[0m \u001b[0;34m=\u001b[0m\u001b[0;34m{\u001b[0m\u001b[0;34m'link_1'\u001b[0m\u001b[0;34m:\u001b[0m \u001b[0;34m{\u001b[0m\u001b[0;34m'relationship'\u001b[0m\u001b[0;34m:\u001b[0m \u001b[0;34m'(Company)-[PRODUCED]->(Car)'\u001b[0m\u001b[0;34m,\u001b[0m \u001b[0;34m'landing_instance'\u001b[0m\u001b[0;34m:\u001b[0m \u001b[0;34m'NRRT/Car/1'\u001b[0m\u001b[0;34m}\u001b[0m\u001b[0;34m}\u001b[0m\u001b[0;34m\u001b[0m\u001b[0;34m\u001b[0m\u001b[0m\n\u001b[0;32m----> 2\u001b[0;31m \u001b[0mprint\u001b[0m\u001b[0;34m(\u001b[0m\u001b[0mnrrt\u001b[0m\u001b[0;34m)\u001b[0m\u001b[0;34m\u001b[0m\u001b[0;34m\u001b[0m\u001b[0m\n\u001b[0m",
      "\u001b[0;31mNameError\u001b[0m: name 'nrrt' is not defined"
     ]
    }
   ],
   "source": [
    "c ={'link_1': {'relationship': '(Company)-[PRODUCED]->(Car)', 'landing_instance': 'NRRT/Car/1'}}\n",
    "print(nrrt)"
   ]
  },
  {
   "cell_type": "code",
   "execution_count": 59,
   "metadata": {},
   "outputs": [],
   "source": [
    "key = 'Car'\n",
    "with urllib.request.urlopen(f'https://raw.githubusercontent.com/mister-one/onesto/master/NRRT/{key}') as url:\n",
    "    nrrt = json.loads(url.read().decode()) #load the NRRT asso"
   ]
  },
  {
   "cell_type": "code",
   "execution_count": 65,
   "metadata": {},
   "outputs": [
    {
     "name": "stdout",
     "output_type": "stream",
     "text": [
      "{'instance_address': 'https://gooe.com/Review/4', 'instance_abm': 'https://onesto.world/abm/Review/1', 'trust_score': 0.1, 'frequency_score': 1}\n",
      "{'instance_address': 'https://gooe.com/Review/5', 'instance_abm': 'https://onesto.world/abm/Review/2', 'trust_score': 0.1, 'frequency_score': 1}\n"
     ]
    }
   ],
   "source": [
    "for x in nrrt[key][1]['instance_ranking']:\n",
    "    print(x)"
   ]
  },
  {
   "cell_type": "code",
   "execution_count": 68,
   "metadata": {},
   "outputs": [],
   "source": [
    "def function(dr,item):\n",
    "    # Item = car\n",
    "    # Dr = {}\n",
    "    # for the item\n",
    "        # load the NRRT\n",
    "        # For each instance in the cluster check if they satisfy the requisite of the DR\n",
    "        # If tru select the instance\n",
    "    pass\n",
    "        \n",
    "a= {\n",
    "          \"instance_address\": \"https://gooe.com/Review/1\",\n",
    "          \"instance_abm\": \"https://onesto.world/abm/Review/1\",\n",
    "          \"trust_score\": 0.1,\n",
    "          \"frequency_score\": 1\n",
    "        }\n",
    "\n",
    "# selezione giusti nel cluster"
   ]
  },
  {
   "cell_type": "code",
   "execution_count": 124,
   "metadata": {},
   "outputs": [],
   "source": [
    "def check_attr_meas(item,dr,abm_id):\n",
    "    \n",
    "    requetsed_attr = dr.get(item)['ATTR']\n",
    "    requetsed_meas = dr.get(item)['MEAS']\n",
    "    \n",
    "    abm_address = f'https://raw.githubusercontent.com/mister-one/onesto/master/ABM/{item}'\n",
    "    with urllib.request.urlopen(abm_address) as url:\n",
    "        instance_abm = (json.loads(url.read().decode()))[item][abm_id-1]\n",
    "    abm_ATTR = []\n",
    "    abm_MEAS = []\n",
    "    for x in instance_abm['ATTR']:\n",
    "        abm_ATTR.append(x.get('attribute_name'))\n",
    "    for x in instance_abm['MEAS']:\n",
    "        abm_MEAS.append(x.get('measure_name'))\n",
    "\n",
    "    #check if all the attributes and measures requested are in the ABM\n",
    "    true_false = []\n",
    "    true_false.append(all(item in abm_ATTR for item in requetsed_attr))\n",
    "    true_false.append(all(item in abm_MEAS for item in requetsed_meas))\n",
    "    '''\n",
    "    print('requetsed_attr')\n",
    "    print(requetsed_attr)\n",
    "    print('------')\n",
    "    print('abm_ATTR')\n",
    "    print(abm_ATTR)\n",
    "    print('------')\n",
    "    print(true_false)\n",
    "    print('------')\n",
    "    print('requetsed_meas')\n",
    "    print(requetsed_meas)\n",
    "    print('------')\n",
    "    print('abm_meas')\n",
    "    print(abm_MEAS)\n",
    "    '''\n",
    "    if true_false[0]==True & true_false[1]==True:\n",
    "        return True\n",
    "    \n",
    "    "
   ]
  },
  {
   "cell_type": "code",
   "execution_count": 113,
   "metadata": {},
   "outputs": [
    {
     "data": {
      "text/plain": [
       "['model_name', 'color']"
      ]
     },
     "execution_count": 113,
     "metadata": {},
     "output_type": "execute_result"
    }
   ],
   "source": [
    "dr.get('Car')['ATTR']"
   ]
  },
  {
   "cell_type": "code",
   "execution_count": 125,
   "metadata": {},
   "outputs": [
    {
     "data": {
      "text/plain": [
       "True"
      ]
     },
     "execution_count": 125,
     "metadata": {},
     "output_type": "execute_result"
    }
   ],
   "source": [
    "check_attr_meas('Car',dr,1)"
   ]
  },
  {
   "cell_type": "code",
   "execution_count": 109,
   "metadata": {},
   "outputs": [
    {
     "data": {
      "text/plain": [
       "True"
      ]
     },
     "execution_count": 109,
     "metadata": {},
     "output_type": "execute_result"
    }
   ],
   "source": [
    "requetsed_attr = [1,2]\n",
    "abm_ATTR = [1,2,3]\n",
    "all(item in abm_ATTR for item in requetsed_attr)"
   ]
  },
  {
   "cell_type": "code",
   "execution_count": 385,
   "metadata": {},
   "outputs": [],
   "source": [
    "def check_link(item,item_cluster_id,dr,abm_id,instance_address):\n",
    "    \n",
    "    # LIST OF INPUTS\n",
    "    # item = Car is the item we are analysing (The item of the NRRT we are considering as of right now)\n",
    "    # item_cluster_id is the cluster id of the lcuster where the instance belongs\n",
    "    # dr is the Data Request\n",
    "    # abm_id is the abm\n",
    "    # the instance we are considering (https://onesto.world/Car/12414)\n",
    "    \n",
    "    requetsed_link = dr.get(item)['LINK']\n",
    "    print('----requetsed_link---')\n",
    "    print(requetsed_link)\n",
    "    print('--------')\n",
    "    \n",
    "    abm_address = f'https://raw.githubusercontent.com/mister-one/onesto/master/ABM/{item}'\n",
    "    with urllib.request.urlopen(abm_address) as url:\n",
    "        instance_abm = (json.loads(url.read().decode()))[item][abm_id-1]\n",
    "    #print('Instance ABM')\n",
    "    #print(instance_abm)\n",
    "    #print('--------')\n",
    "    abm_LINK = []\n",
    "    for x in instance_abm['LINK']:\n",
    "        abm_LINK.append(x.get('relationship'))\n",
    "    print('----abm_LINK----')\n",
    "    print(abm_LINK)\n",
    "    print('--------')\n",
    "    \n",
    "    available_link = []\n",
    "    for _ in requetsed_link:\n",
    "        if _ in abm_LINK:\n",
    "            available_link = request_link(instance_address)\n",
    "            break\n",
    "    print('----available_link----')\n",
    "    print(available_link)\n",
    "    print('--------')\n",
    "    matched_landing_instances = []\n",
    "    missing_relationships = []\n",
    "    for link in requetsed_link:\n",
    "        if link in abm_LINK:\n",
    "            for x in available_link:\n",
    "                if x['relationship'] == link:\n",
    "                    matched_landing_instances.append(x)\n",
    "        else:\n",
    "            missing_relationships.append({'relationship': f'{link}', 'landing_instance':[]})\n",
    "    print('---matched landing instances--')\n",
    "    print(matched_landing_instances)\n",
    "    print('-----')\n",
    "    print('---missing_relationships--')\n",
    "    print(missing_relationships)\n",
    "    # for the missing relationships look in the link ranking of the table \n",
    "    # and for each link that has the origin associted with the item in the last bracket\n",
    "    for relat in missing_relationships:\n",
    "        # (s) is the landing item that we are missing. So we need to scan if there are links coming from this item\n",
    "        s = re.findall(\"\\([^()]+\\)(?=[^()]*$)\",relat['relationship'])[0][1:(len(re.findall(\"\\([^()]+\\)(?=[^()]*$)\",relat['relationship'])[0])-1)]\n",
    "        print('s is the item linked that we need to find')\n",
    "        print(s)\n",
    "        print('-------------')\n",
    "        with urllib.request.urlopen(f'https://raw.githubusercontent.com/mister-one/onesto/master/NRRT/{item}') as url:\n",
    "            item_nrrt_cluster = json.loads(url.read().decode())[item][item_cluster_id]['link_ranking']\n",
    "        print(item_nrrt_cluster)\n",
    "        for x in item_nrrt_cluster:\n",
    "            if x['relationship']=='(Allert)-[NEAR]-(Car)':\n",
    "                print('sfjnskjdfnskj')\n",
    "                print(x)\n",
    "                print('jwenfqijwn')\n",
    "                print(x['incoming_instance_address'])\n",
    "                matched_landing_instances.append({'relationship': x['relationship'], 'landing_instance':x['incoming_instance_address']})\n",
    "                for inst in x['incoming_instance_address']:\n",
    "                    print(inst)\n",
    "                    #check if the instance is ok\n",
    "                print('last')\n",
    "                print(matched_landing_instances)\n",
    "\n",
    "        \n",
    "        "
   ]
  },
  {
   "cell_type": "code",
   "execution_count": 386,
   "metadata": {},
   "outputs": [
    {
     "name": "stdout",
     "output_type": "stream",
     "text": [
      "----requetsed_link---\n",
      "['(Car)<-[PRODUCED]-(Company)', '(Car)<-[OWNED]-(Person)']\n",
      "--------\n",
      "----abm_LINK----\n",
      "['(Car)<-[PRODUCED]-(Company)', '(Car)<-[LOCATED]-(Country)']\n",
      "--------\n",
      "----available_link----\n",
      "[{'relationship': '(Car)<-[PRODUCED]-(Company)', 'landing_instance': ['NRRT/Engine/2', 'NRRT/Engine/3']}, {'relationship': '(Company)-[LOCATED]->(Country)', 'landing_instance': 'NRRT/Car/1'}]\n",
      "--------\n",
      "---matched landing instances--\n",
      "[{'relationship': '(Car)<-[PRODUCED]-(Company)', 'landing_instance': ['NRRT/Engine/2', 'NRRT/Engine/3']}]\n",
      "-----\n",
      "---missing_relationships--\n",
      "[{'relationship': '(Car)<-[OWNED]-(Person)', 'landing_instance': []}]\n",
      "s is the item linked that we need to find\n",
      "Person\n",
      "-------------\n",
      "[{'origin': 'Allert', 'relationship': '(Allert)-[ABB]->(Car)', 'incoming_instance_address': ['https://hello.com/Alert/123', 'https://hello.com/Alert/123', 'https://hello.com/Alert/123', 'https://hello.com/Alert/123']}, {'origin': 'Allert', 'relationship': '(Allert)-[NEAR]-(Car)', 'incoming_instance_address': ['https://hello.com/Alert/123', 'https://hello.com/Alert/123', 'https://hello.com/Alert/123', 'https://hello.com/Alert/123']}]\n",
      "sfjnskjdfnskj\n",
      "{'origin': 'Allert', 'relationship': '(Allert)-[NEAR]-(Car)', 'incoming_instance_address': ['https://hello.com/Alert/123', 'https://hello.com/Alert/123', 'https://hello.com/Alert/123', 'https://hello.com/Alert/123']}\n",
      "jwenfqijwn\n",
      "['https://hello.com/Alert/123', 'https://hello.com/Alert/123', 'https://hello.com/Alert/123', 'https://hello.com/Alert/123']\n",
      "https://hello.com/Alert/123\n",
      "https://hello.com/Alert/123\n",
      "https://hello.com/Alert/123\n",
      "https://hello.com/Alert/123\n",
      "last\n",
      "[{'relationship': '(Car)<-[PRODUCED]-(Company)', 'landing_instance': ['NRRT/Engine/2', 'NRRT/Engine/3']}, {'relationship': '(Allert)-[NEAR]-(Car)', 'landing_instance': ['https://hello.com/Alert/123', 'https://hello.com/Alert/123', 'https://hello.com/Alert/123', 'https://hello.com/Alert/123']}]\n"
     ]
    }
   ],
   "source": [
    "\n",
    "\n",
    "check_link('Car',1,dr,1,'https://raw.githubusercontent.com/mister-one/onesto/master/NODE_ONESTO/INSTANCE/Car/1')\n",
    "\n"
   ]
  },
  {
   "cell_type": "code",
   "execution_count": 173,
   "metadata": {},
   "outputs": [],
   "source": [
    "a = [{'relationship': '(Company)-[PRODUCED]->(Car)', 'landing_instance': 'NRRT/Car/1'}, {'relationship': '(Company)-[LOCATED]->(Country)', 'landing_instance': 'NRRT/Car/1'}]"
   ]
  },
  {
   "cell_type": "code",
   "execution_count": 177,
   "metadata": {},
   "outputs": [
    {
     "name": "stdout",
     "output_type": "stream",
     "text": [
      "NRRT/Car/1\n",
      "hello\n"
     ]
    }
   ],
   "source": [
    "b = '(Company)-[PRODUCED]->(Car)'\n",
    "for x in a:\n",
    "    if x['relationship'] == b:\n",
    "        print(x['landing_instance'])\n",
    "    else:\n",
    "        print('hello')"
   ]
  },
  {
   "cell_type": "code",
   "execution_count": 225,
   "metadata": {},
   "outputs": [
    {
     "name": "stdout",
     "output_type": "stream",
     "text": [
      "Current Dict is:  {'key1': 'geeks', 'key2': 'for'}\n",
      "Updated Dict is:  {'key1': 'geeks', 'key2': 'for', 'key3': 'Geeks', 'key4': 'is', 'key5': 'portal', 'key6': 'Computer'}\n"
     ]
    }
   ],
   "source": [
    "dict = {'key1':'geeks', 'key2':'for'}  \n",
    "print(\"Current Dict is: \", dict)  \n",
    "    \n",
    "# using the subscript notation  \n",
    "# Dictionary_Name[New_Key_Name] = New_Key_Value  \n",
    "  \n",
    "dict['key3'] = 'Geeks'\n",
    "dict['key4'] = 'is'\n",
    "dict['key5'] = 'portal'\n",
    "dict['key6'] = 'Computer'\n",
    "print(\"Updated Dict is: \", dict) "
   ]
  },
  {
   "cell_type": "code",
   "execution_count": 234,
   "metadata": {},
   "outputs": [
    {
     "data": {
      "text/plain": [
       "dict_keys(['key1', 'key2', 'key3', 'key4', 'key5', 'key6'])"
      ]
     },
     "execution_count": 234,
     "metadata": {},
     "output_type": "execute_result"
    }
   ],
   "source": [
    "dict.keys()"
   ]
  },
  {
   "cell_type": "code",
   "execution_count": 235,
   "metadata": {},
   "outputs": [],
   "source": [
    "a = [{'relationship': '(Car)<-[PRODUCED]-(Company)', 'landing_instance': ['NRRT/Engine/2', 'NRRT/Engine/3']}, {'relationship': '(Company)-[LOCATED]->(Country)', 'landing_instance': 'NRRT/Car/1'}]"
   ]
  },
  {
   "cell_type": "code",
   "execution_count": 236,
   "metadata": {},
   "outputs": [
    {
     "name": "stdout",
     "output_type": "stream",
     "text": [
      "{'relationship': '(Car)<-[PRODUCED]-(Company)', 'landing_instance': ['NRRT/Engine/2', 'NRRT/Engine/3']}\n",
      "{'relationship': '(Company)-[LOCATED]->(Country)', 'landing_instance': 'NRRT/Car/1'}\n"
     ]
    }
   ],
   "source": [
    "for x in a:\n",
    "    print(x)"
   ]
  },
  {
   "cell_type": "code",
   "execution_count": 258,
   "metadata": {},
   "outputs": [],
   "source": [
    "requetsed_link = ['(Car)<-[PRODUCED]-(Company)', '(Car)<-[OWNED]-(Person)']\n",
    "\n",
    "abm_LINK =['(Car)<-[PRODUCED]-(Company)', '(Ca)<-[OWNED]-(Person)', '(Car)<-[LOCATED]-(Country)']\n",
    "\n",
    "available_link = [{'relationship': '(Car)<-[PRODUCED]-(Company)', 'landing_instance': ['NRRT/Engine/2', 'NRRT/Engine/3']}, {'relationship': '(Company)-[LOCATED]->(Country)', 'landing_instance': 'NRRT/Car/1'}]"
   ]
  },
  {
   "cell_type": "code",
   "execution_count": 259,
   "metadata": {},
   "outputs": [
    {
     "name": "stdout",
     "output_type": "stream",
     "text": [
      "c\n",
      "b\n",
      "a\n",
      "(Car)<-[PRODUCED]-(Company)\n",
      "[{'relationship': '(Car)<-[PRODUCED]-(Company)', 'landing_instance': ['NRRT/Engine/2', 'NRRT/Engine/3']}]\n",
      "c\n",
      "[{'relationship': '(Car)<-[OWNED]-(Person)', 'landing_instance': []}]\n"
     ]
    }
   ],
   "source": [
    "landing_instances = []\n",
    "unmateched = []\n",
    "for link in requetsed_link:\n",
    "        print('c')\n",
    "        if link in abm_LINK:\n",
    "            for x in available_link:\n",
    "                if x['relationship'] == link:\n",
    "                    landing_instances.append(x)\n",
    "                    print('b')\n",
    "                else:\n",
    "                    print('a')\n",
    "                    print(link)\n",
    "                    print(landing_instances)\n",
    "        else:\n",
    "            unmateched.append({'relationship': f'{link}', 'landing_instance':[]})\n",
    "print(unmateched)"
   ]
  },
  {
   "cell_type": "code",
   "execution_count": 299,
   "metadata": {},
   "outputs": [],
   "source": [
    "\n",
    "a = ' test a(bb) ci (cccc)'\n",
    "b = re.findall(\"\\([^()]+\\)(?=[^()]*$)\",a)[0][1:(len(re.findall(\"\\([^()]+\\)(?=[^()]*$)\",a)[0])-1)]"
   ]
  },
  {
   "cell_type": "code",
   "execution_count": 300,
   "metadata": {},
   "outputs": [
    {
     "name": "stdout",
     "output_type": "stream",
     "text": [
      "cccc\n"
     ]
    }
   ],
   "source": [
    "print(b)"
   ]
  },
  {
   "cell_type": "code",
   "execution_count": 292,
   "metadata": {},
   "outputs": [
    {
     "data": {
      "text/plain": [
       "5"
      ]
     },
     "execution_count": 292,
     "metadata": {},
     "output_type": "execute_result"
    }
   ],
   "source": [
    "len(re.findall(\"\\([^()]+\\)(?=[^()]*$)\",a)[0])-1"
   ]
  },
  {
   "cell_type": "code",
   "execution_count": 296,
   "metadata": {},
   "outputs": [
    {
     "name": "stdout",
     "output_type": "stream",
     "text": [
      "['hello, (my) name is Peter, I am 26 years old']\n"
     ]
    }
   ],
   "source": [
    "txt = \"hello, (my) name is Peter, I am 26 years old\"\n",
    "\n",
    "x = txt.split(\"()\")\n",
    "\n",
    "print(x)"
   ]
  },
  {
   "cell_type": "code",
   "execution_count": 297,
   "metadata": {},
   "outputs": [],
   "source": [
    "a = ' test a(bb) ci (cccc)'\n",
    "b = re.findall(\"\\([^()]+\\)(?=[^()]*$)\",a)"
   ]
  },
  {
   "cell_type": "code",
   "execution_count": 298,
   "metadata": {},
   "outputs": [
    {
     "name": "stdout",
     "output_type": "stream",
     "text": [
      "['(cccc)']\n"
     ]
    }
   ],
   "source": [
    "print(b)"
   ]
  },
  {
   "cell_type": "code",
   "execution_count": 306,
   "metadata": {},
   "outputs": [
    {
     "name": "stdout",
     "output_type": "stream",
     "text": [
      "(Car)<-[OWNED]-(Person)\n",
      "Person\n",
      "(Car)<-[OWNED]-(Person)\n",
      "Person\n"
     ]
    }
   ],
   "source": [
    "a = [{'relationship': '(Car)<-[OWNED]-(Person)', 'landing_instance': []},{'relationship': '(Car)<-[OWNED]-(Person)', 'landing_instance': []}]\n",
    "for x in a:\n",
    "    s = x['relationship']\n",
    "    print(re.findall(\"\\([^()]+\\)(?=[^()]*$)\",s)[0][1:(len(re.findall(\"\\([^()]+\\)(?=[^()]*$)\",s)[0])-1)])"
   ]
  },
  {
   "cell_type": "code",
   "execution_count": 388,
   "metadata": {},
   "outputs": [
    {
     "name": "stdout",
     "output_type": "stream",
     "text": [
      "(Car)<-[PRODUCED]-(Company)\n",
      "(Allert)-[NEAR]-(Car)\n"
     ]
    }
   ],
   "source": [
    "a = [{'relationship': '(Car)<-[PRODUCED]-(Company)', 'landing_instance': ['NRRT/Engine/2', 'NRRT/Engine/3']}, {'relationship': '(Allert)-[NEAR]-(Car)', 'landing_instance': ['https://hello.com/Alert/123', 'https://hello.com/Alert/123', 'https://hello.com/Alert/123', 'https://hello.com/Alert/123']}]\n",
    "for x in a:\n",
    "    print(x['relationship'])"
   ]
  },
  {
   "cell_type": "code",
   "execution_count": null,
   "metadata": {},
   "outputs": [],
   "source": []
  }
 ],
 "metadata": {
  "kernelspec": {
   "display_name": "Python 3",
   "language": "python",
   "name": "python3"
  },
  "language_info": {
   "codemirror_mode": {
    "name": "ipython",
    "version": 3
   },
   "file_extension": ".py",
   "mimetype": "text/x-python",
   "name": "python",
   "nbconvert_exporter": "python",
   "pygments_lexer": "ipython3",
   "version": "3.8.3"
  }
 },
 "nbformat": 4,
 "nbformat_minor": 4
}
